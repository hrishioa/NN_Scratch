{
 "cells": [
  {
   "cell_type": "markdown",
   "metadata": {},
   "source": [
    "## Restricted Boltzmann Machines"
   ]
  },
  {
   "cell_type": "code",
   "execution_count": 2,
   "metadata": {
    "collapsed": false
   },
   "outputs": [
    {
     "name": "stdout",
     "output_type": "stream",
     "text": [
      "Populating the interactive namespace from numpy and matplotlib\n"
     ]
    }
   ],
   "source": [
    "%pylab inline\n",
    "# import numpy\n",
    "import numpy as np\n",
    "from tqdm import *"
   ]
  },
  {
   "cell_type": "code",
   "execution_count": 3,
   "metadata": {
    "collapsed": false
   },
   "outputs": [
    {
     "name": "stdout",
     "output_type": "stream",
     "text": [
      "RBM Initialized\n"
     ]
    }
   ],
   "source": [
    "# Define a shallow RBM\n",
    "class rbm(object):\n",
    "    def __init__(self, input_size, hidden_size):\n",
    "        self.weights = self.get_weights((input_size, hidden_size))\n",
    "        self.sigmoid = np.vectorize(self.sigmoid)\n",
    "        self.sigmoid_delta = np.vectorize(self.sigmoid_delta)\n",
    "        self.turn_on = np.vectorize(self.turn_on)\n",
    "        self.schmitt = np.vectorize(self.schmitt)\n",
    "        self.schmitt2 = np.vectorize(self.schmitt2)\n",
    "        \n",
    "    def feed_forward(self, input):\n",
    "        return self.turn_on(self.sigmoid(np.dot(input, self.weights)))\n",
    "    \n",
    "    def get_adjust(self, input):\n",
    "        forward = self.feed_forward(input)\n",
    "        backward = self.feed_backward(forward)\n",
    "        adjust_pos = self.schmitt2((self.schmitt((forward * self.weights))) + (self.schmitt(input * self.weights.T).T)) \n",
    "        adjust_neg = self.schmitt2(self.schmitt(forward * self.weights)+self.schmitt(backward * self.weights.T).T)\n",
    "#         adjust_pos = ((forward * self.weights).T * input).T\n",
    "#         adjust_neg = ((backward * self.weights.T).T * forward)\n",
    "        return adjust_pos - adjust_neg\n",
    "    \n",
    "    def schmitt2(self, input):\n",
    "        return (0 if input == 1 else 1)\n",
    "    \n",
    "    def schmitt(self, input):\n",
    "        return (0 if input == 0 else 1)\n",
    "    \n",
    "    def get_adjustav(self, input, learningrate):\n",
    "        adjust = learningrate * self.schmitt(self.get_adjust(input[0]))\n",
    "        for i in xrange(1, len(input)):\n",
    "            adjust += learningrate * self.schmitt(self.get_adjust(input[i]))\n",
    "        return (adjust / len(input))\n",
    "    \n",
    "    def feed_backward(self, input):\n",
    "        return self.turn_on(self.sigmoid(np.dot(input, self.weights.T)))\n",
    "    \n",
    "    def get_weights(self, dimensions):\n",
    "        return np.random.normal(0,1,dimensions)\n",
    "        \n",
    "    def delta_func1(self, output, truths):\n",
    "        return (output-truths)\n",
    "    \n",
    "    def turn_on(self, a):\n",
    "        return (1 if a > 0.5 else 0)\n",
    "    \n",
    "    def sigmoid(self, z):\n",
    "#         print \"Z: %f\" % z\n",
    "        return 1/(1+np.exp(-z))\n",
    "    \n",
    "    def sigmoid_delta(self, z):\n",
    "        return (np.exp(-z))/((1+np.exp(-z))**2)\n",
    "    \n",
    "print \"RBM Initialized\""
   ]
  },
  {
   "cell_type": "code",
   "execution_count": 4,
   "metadata": {
    "collapsed": true
   },
   "outputs": [],
   "source": [
    "input_XOR = np.transpose(np.array([[0,0],[0,1],[1,0],[1,1]]))\n",
    "gtruth_XOR = np.transpose(np.array([[0],[1],[1],[0]]))\n",
    "input_AND = np.transpose(np.array([[0,0],[0,1],[1,0],[1,1]]))\n",
    "gtruth_AND = np.transpose(np.array([[0],[0],[0],[1]]))"
   ]
  },
  {
   "cell_type": "code",
   "execution_count": 5,
   "metadata": {
    "collapsed": false
   },
   "outputs": [],
   "source": [
    "np.random.seed(1)\n",
    "rbm1 = rbm(6,2)\n",
    "# input_s = input_AND.T\n",
    "training_data = np.array([[1,1,1,0,0,0],[1,0,1,0,0,0],[1,1,1,0,0,0],[0,0,1,1,1,0], [0,0,1,1,0,0],[0,0,1,1,1,0]])\n",
    "input_s = training_data"
   ]
  },
  {
   "cell_type": "code",
   "execution_count": 236,
   "metadata": {
    "collapsed": false
   },
   "outputs": [
    {
     "name": "stdout",
     "output_type": "stream",
     "text": [
      "Adjustf : [[1 0]\n",
      " [0 1]\n",
      " [1 0]\n",
      " [0 1]\n",
      " [0 1]\n",
      " [0 1]]\n",
      "Adjustb1: [[1 1]\n",
      " [0 0]\n",
      " [1 1]\n",
      " [1 1]\n",
      " [1 1]\n",
      " [1 1]]\n",
      "Adjustb2: [[1 0]\n",
      " [1 0]\n",
      " [1 0]\n",
      " [1 0]\n",
      " [1 0]\n",
      " [1 0]]\n",
      "Adjustb : [[1 0]\n",
      " [0 1]\n",
      " [1 0]\n",
      " [1 0]\n",
      " [1 0]\n",
      " [1 0]]\n",
      "Input: [[1 1 1 0 0 0]\n",
      " [1 0 1 0 0 0]\n",
      " [1 1 1 0 0 0]\n",
      " [0 0 1 1 1 0]\n",
      " [0 0 1 1 0 0]\n",
      " [0 0 1 1 1 0]]\n",
      "Weights: [[ 1.62434536 -0.61175641]\n",
      " [-0.52817175 -1.07296862]\n",
      " [ 0.86540763 -2.3015387 ]\n",
      " [ 1.74481176 -0.7612069 ]\n",
      " [ 0.3190391  -0.24937038]\n",
      " [ 1.46210794 -2.06014071]]\n",
      "Forward: [[1 0]\n",
      " [1 0]\n",
      " [1 0]\n",
      " [1 0]\n",
      " [1 0]\n",
      " [1 0]]\n",
      "Backward: [[1 0 1 1 1 1]\n",
      " [1 0 1 1 1 1]\n",
      " [1 0 1 1 1 1]\n",
      " [1 0 1 1 1 1]\n",
      " [1 0 1 1 1 1]\n",
      " [1 0 1 1 1 1]]\n",
      "Adjust: [[ 0.05        0.05      ]\n",
      " [ 0.03333333  0.03333333]\n",
      " [ 0.          0.        ]\n",
      " [ 0.05        0.05      ]\n",
      " [ 0.06666667  0.06666667]\n",
      " [ 0.1         0.1       ]]\n",
      "Adjustin: [[ 0  0]\n",
      " [ 0  0]\n",
      " [ 0  0]\n",
      " [-1  1]\n",
      " [-1  1]\n",
      " [-1  1]]\n",
      "Adjustf2: [[ 1.62434536 -0.        ]\n",
      " [-0.         -0.        ]\n",
      " [ 0.86540763 -0.        ]\n",
      " [ 0.         -0.        ]\n",
      " [ 0.         -0.        ]\n",
      " [ 0.         -0.        ]]\n",
      "Adjustb: [[ 1.62434536 -0.        ]\n",
      " [-0.         -0.        ]\n",
      " [ 0.86540763 -0.        ]\n",
      " [ 1.74481176 -0.        ]\n",
      " [ 0.3190391  -0.        ]\n",
      " [ 1.46210794 -0.        ]]\n"
     ]
    }
   ],
   "source": [
    "print \"Adjustf : %s\" % rbm1.schmitt2((rbm1.schmitt((rbm1.feed_forward(input_s[1]) * rbm1.weights))) + (rbm1.schmitt(input_s[1] * rbm1.weights.T).T)) \n",
    "print \"Adjustb1: %s\" % rbm1.schmitt(rbm1.feed_backward(rbm1.feed_forward(input_s[1])) * rbm1.weights.T).T\n",
    "print \"Adjustb2: %s\" % rbm1.schmitt(rbm1.feed_forward(input_s[1]) * rbm1.weights)\n",
    "print \"Adjustb : %s\" % rbm1.schmitt2(rbm1.schmitt(rbm1.feed_forward(input_s[1]) * rbm1.weights)+rbm1.schmitt(rbm1.feed_backward(rbm1.feed_forward(input_s[1])) * rbm1.weights.T).T)\n",
    "print \"Input: %s\" % input_s\n",
    "print \"Weights: %s\" % rbm1.weights\n",
    "print \"Forward: %s\" % rbm1.feed_forward(input_s)\n",
    "print \"Backward: %s\" % rbm1.feed_backward(rbm1.feed_forward(input_s))\n",
    "print \"Adjust: %s\" % rbm1.get_adjustav(input_s, 0.1)\n",
    "print \"Adjustin: %s\" % rbm1.get_adjust(input_s[1])\n",
    "\n",
    "print \"Adjustf2: %s\" % ((rbm1.feed_forward(input_s[1]) * rbm1.weights).T * input_s[1]).T\n",
    "print \"Adjustb: %s\" % ((rbm1.feed_backward(rbm1.feed_forward(input_s[1])) * rbm1.weights.T).T * rbm1.feed_forward(input_s[1]))"
   ]
  },
  {
   "cell_type": "code",
   "execution_count": 237,
   "metadata": {
    "collapsed": false
   },
   "outputs": [
    {
     "name": "stderr",
     "output_type": "stream",
     "text": [
      "100%|██████████| 1000/1000 [00:04<00:00, 236.20it/s]\n"
     ]
    },
    {
     "data": {
      "text/plain": [
       "[<matplotlib.lines.Line2D at 0x110acfad0>]"
      ]
     },
     "execution_count": 237,
     "metadata": {},
     "output_type": "execute_result"
    },
    {
     "data": {
      "image/png": "[encoded data removed]",
      "text/plain": [
       "<matplotlib.figure.Figure at 0x110496350>"
      ]
     },
     "metadata": {},
     "output_type": "display_data"
    }
   ],
   "source": [
    "learningrate = 0.1\n",
    "res = []\n",
    "for i in tqdm(xrange(0, 1000)):\n",
    "    ad = rbm1.get_adjustav(input_s, learningrate)\n",
    "    res.append(np.sum(np.abs(ad)))\n",
    "    rbm1.weights += ad\n",
    "plot(res)"
   ]
  },
  {
   "cell_type": "code",
   "execution_count": 232,
   "metadata": {
    "collapsed": false
   },
   "outputs": [
    {
     "name": "stdout",
     "output_type": "stream",
     "text": [
      "Adjust: [[0 0]\n",
      " [0 0]\n",
      " [1 1]\n",
      " [0 0]\n",
      " [0 0]\n",
      " [0 0]]\n",
      "Input: [[1 1 1 0 0 0]\n",
      " [1 0 1 0 0 0]\n",
      " [1 1 1 0 0 0]\n",
      " [0 0 1 1 1 0]\n",
      " [0 0 1 1 0 0]\n",
      " [0 0 1 1 1 0]]\n",
      "FF: [[0 0]\n",
      " [0 0]\n",
      " [0 0]\n",
      " [0 0]\n",
      " [0 0]\n",
      " [0 0]]\n",
      "Dream: [[0 0 0 0 0 0]\n",
      " [0 0 0 0 0 0]\n",
      " [0 0 0 0 0 0]\n",
      " [0 0 0 0 0 0]\n",
      " [0 0 0 0 0 0]\n",
      " [0 0 0 0 0 0]]\n"
     ]
    }
   ],
   "source": [
    "print \"Adjust: %s\" % rbm1.get_adjustav(input_s, 1)\n",
    "print \"Input: %s\" % input_s\n",
    "print \"FF: %s\" % rbm1.feed_forward(input_s)\n",
    "print \"Dream: %s\" % rbm1.feed_backward(rbm1.feed_forward(input_s))"
   ]
  },
  {
   "cell_type": "code",
   "execution_count": 183,
   "metadata": {
    "collapsed": false
   },
   "outputs": [],
   "source": [
    "np.random.seed(1)\n",
    "learningrate = 0.1\n",
    "def sigmoid(x):\n",
    "    return 1 / (1 + math.exp(-x))\n",
    "def schmitt(x):\n",
    "    return (0 if x <= 0.5 else 1)\n",
    "sigmoid = np.vectorize(sigmoid)\n",
    "schmitt = np.vectorize(schmitt)\n",
    "input_size = 6\n",
    "feature_size = 2\n",
    "vi = input_s\n",
    "movies = [\"Harry Potter\",\"Avatar\",\"LOTR\",\"Gladiator\",\"Titanic\",\"Glitter\"]\n",
    "weights = np.abs(np.random.normal(0, 0.1, (input_size, feature_size)))\n",
    "bj = np.abs(np.random.normal(0,0.1, (1, feature_size)))\n",
    "bi = np.abs(np.random.normal(0, 0.1, (1, input_size)))"
   ]
  },
  {
   "cell_type": "code",
   "execution_count": 59,
   "metadata": {
    "collapsed": false
   },
   "outputs": [
    {
     "name": "stdout",
     "output_type": "stream",
     "text": [
      "Vi: [[1 1 1 0 0 0]\n",
      " [1 0 1 0 0 0]\n",
      " [1 1 1 0 0 0]\n",
      " [0 0 1 1 1 0]\n",
      " [0 0 1 1 0 0]\n",
      " [0 0 1 1 1 0]]\n",
      "Wij: [[ 0.16243454  0.06117564]\n",
      " [ 0.05281718  0.10729686]\n",
      " [ 0.08654076  0.23015387]\n",
      " [ 0.17448118  0.07612069]\n",
      " [ 0.03190391  0.02493704]\n",
      " [ 0.14621079  0.20601407]]\n",
      "Bj : [[ 0.03224172  0.03840544]]\n",
      "Vi * Wij : [[ 0.30179247  0.39862637]\n",
      " [ 0.2489753   0.29132951]\n",
      " [ 0.30179247  0.39862637]\n",
      " [ 0.29292585  0.3312116 ]\n",
      " [ 0.26102194  0.30627456]\n",
      " [ 0.29292585  0.3312116 ]]\n",
      "Vi * Wij + Bj : [[ 0.33403419  0.43703181]\n",
      " [ 0.28121702  0.32973495]\n",
      " [ 0.33403419  0.43703181]\n",
      " [ 0.32516757  0.36961703]\n",
      " [ 0.29326366  0.34468   ]\n",
      " [ 0.32516757  0.36961703]]\n",
      "hi : [[1 1]\n",
      " [1 1]\n",
      " [1 1]\n",
      " [1 1]\n",
      " [1 1]\n",
      " [1 1]]\n"
     ]
    }
   ],
   "source": [
    "print \"Vi: %s\" % input_s\n",
    "print \"Wij: %s\" % weights\n",
    "print \"Bj : %s\" % bj\n",
    "viwj = np.dot(input_s, weights)\n",
    "print \"Vi * Wij : %s\" % viwj\n",
    "biviwj = bj + viwj\n",
    "print \"Vi * Wij + Bj : %s\" % biviwj\n",
    "hi = schmitt(sigmoid(biviwj))\n",
    "print \"hi : %s\" % hi"
   ]
  },
  {
   "cell_type": "code",
   "execution_count": 53,
   "metadata": {
    "collapsed": false
   },
   "outputs": [],
   "source": [
    "# Now get the matrices for each active neuron and active feature\n",
    "input_act = [np.tile(vi[i], (feature_size,1)).T for i in xrange(0, len(vi))]\n",
    "output_act = [np.tile(hi[0], (input_size,1)) for i in xrange(0, len(hi))]"
   ]
  },
  {
   "cell_type": "code",
   "execution_count": 56,
   "metadata": {
    "collapsed": false
   },
   "outputs": [],
   "source": [
    "total_act = [np.multiply(input_act[i], output_act[i]) for i in xrange(0, len(input_act))]"
   ]
  },
  {
   "cell_type": "code",
   "execution_count": 66,
   "metadata": {
    "collapsed": false
   },
   "outputs": [
    {
     "name": "stdout",
     "output_type": "stream",
     "text": [
      "Reprojected Vector: [[1 1 1 1 1 1]\n",
      " [1 1 1 1 1 1]\n",
      " [1 1 1 1 1 1]\n",
      " [1 1 1 1 1 1]\n",
      " [1 1 1 1 1 1]\n",
      " [1 1 1 1 1 1]]\n"
     ]
    }
   ],
   "source": [
    "# now let's try moving backward\n",
    "# We can be faster now\n",
    "vi2 = schmitt(sigmoid(np.dot(hi, weights.T)+bi))\n",
    "print \"Reprojected Vector: %s\" % vi2"
   ]
  },
  {
   "cell_type": "code",
   "execution_count": 67,
   "metadata": {
    "collapsed": false
   },
   "outputs": [
    {
     "name": "stdout",
     "output_type": "stream",
     "text": [
      "Total Activation: [array([[1, 1],\n",
      "       [1, 1],\n",
      "       [1, 1],\n",
      "       [1, 1],\n",
      "       [1, 1],\n",
      "       [1, 1]]), array([[1, 1],\n",
      "       [1, 1],\n",
      "       [1, 1],\n",
      "       [1, 1],\n",
      "       [1, 1],\n",
      "       [1, 1]]), array([[1, 1],\n",
      "       [1, 1],\n",
      "       [1, 1],\n",
      "       [1, 1],\n",
      "       [1, 1],\n",
      "       [1, 1]]), array([[1, 1],\n",
      "       [1, 1],\n",
      "       [1, 1],\n",
      "       [1, 1],\n",
      "       [1, 1],\n",
      "       [1, 1]]), array([[1, 1],\n",
      "       [1, 1],\n",
      "       [1, 1],\n",
      "       [1, 1],\n",
      "       [1, 1],\n",
      "       [1, 1]]), array([[1, 1],\n",
      "       [1, 1],\n",
      "       [1, 1],\n",
      "       [1, 1],\n",
      "       [1, 1],\n",
      "       [1, 1]])]\n"
     ]
    }
   ],
   "source": [
    "# Again, same drill\n",
    "input_act2 = [np.tile(vi2[i], (feature_size,1)).T for i in xrange(0, len(vi2))]\n",
    "output_act2 = [np.tile(hi[0], (input_size,1)) for i in xrange(0, len(hi))]\n",
    "total_act2 = [np.multiply(input_act2[i], output_act2[i]) for i in xrange(0, len(input_act2))]\n",
    "print \"Total Activation: %s\" % total_act2"
   ]
  },
  {
   "cell_type": "markdown",
   "metadata": {},
   "source": [
    "Now let's build a class."
   ]
  },
  {
   "cell_type": "code",
   "execution_count": 145,
   "metadata": {
    "collapsed": false
   },
   "outputs": [],
   "source": [
    "class rbm2(object):\n",
    "    def __init__(self, input_size, feature_size, learning_rate=0.1):\n",
    "        self.inpsize = input_size\n",
    "        self.feasize = feature_size\n",
    "        self.lr = learning_rate\n",
    "        self.weights = np.random.normal(0, 1, (input_size, feature_size))\n",
    "        bj = np.random.normal(0, 1, (1, feature_size))\n",
    "        self.sigmoid = np.vectorize(self.sigmoid)\n",
    "        self.schmitt = np.vectorize(self.schmitt)\n",
    "\n",
    "    def sigmoid(self, x):\n",
    "        return 1 / (1 + math.exp(-x))\n",
    "\n",
    "    def schmitt(self, x):\n",
    "        return (0 if x <= 0.5 else 1)\n",
    "\n",
    "    def feed_f(self, ival):\n",
    "        # No biases yet\n",
    "        hi = self.schmitt(self.sigmoid(np.dot(ival, self.weights)))\n",
    "        input_act = [np.tile(ival[i], (self.feasize, 1)).T for i in xrange(0, len(ival))]\n",
    "        output_act = [np.tile(hi[i], (self.inpsize, 1)) for i in xrange(0, len(hi))]\n",
    "        total_act = [np.multiply(self.lr, np.multiply(input_act[i], output_act[i])) for i in xrange(0, len(input_act))]\n",
    "        return total_act, hi\n",
    "\n",
    "    def feed_b(self, hi):\n",
    "        ival = self.schmitt(self.sigmoid(np.dot(hi, self.weights.T)))\n",
    "        input_act = [np.tile(ival[i], (self.feasize, 1)).T for i in xrange(0, len(ival))]\n",
    "        output_act = [np.tile(hi[i], (self.inpsize, 1)) for i in xrange(0, len(hi))]\n",
    "        total_act = [np.multiply(self.lr, np.multiply(input_act[i], output_act[i])) for i in xrange(0, len(input_act))]\n",
    "        return total_act, ival\n",
    "    \n",
    "    def train_epoch(self, ival, cd_chain):\n",
    "        pos_act, hi = self.feed_f(ival)\n",
    "        neg_act, ival_prime = self.feed_b(hi)\n",
    "#         neg_act, ival_prime = self.feed_b(np.random.randint(2, size=hi.shape))\n",
    "        \n",
    "        for i in xrange(1, cd_chain):\n",
    "            _, hi2 = self.feed_f(ival_prime)\n",
    "            neg_act, ival_prime = self.feed_b(hi2)\n",
    "        \n",
    "        for i in xrange(0, len(pos_act)):\n",
    "            self.weights += (pos_act[i]-neg_act[i])/len(pos_act)\n",
    "        \n",
    "        # Return some indicator of adjustments being made\n",
    "        return np.sum(pos_act), np.sum(neg_act)"
   ]
  },
  {
   "cell_type": "code",
   "execution_count": 176,
   "metadata": {
    "collapsed": true
   },
   "outputs": [],
   "source": [
    "np.random.seed(2)\n",
    "rbm2i = rbm2(6, 3, 1)"
   ]
  },
  {
   "cell_type": "code",
   "execution_count": 179,
   "metadata": {
    "collapsed": false
   },
   "outputs": [
    {
     "name": "stderr",
     "output_type": "stream",
     "text": [
      "100%|████████████████████████████████████████████████████████████████████████████████████| 6/6 [00:00<00:00, 30.77it/s]\n"
     ]
    },
    {
     "data": {
      "text/plain": [
       "<matplotlib.legend.Legend at 0xe39fcf8>"
      ]
     },
     "execution_count": 179,
     "metadata": {},
     "output_type": "execute_result"
    },
    {
     "data": {
      "image/png": "[encoded data removed]",
      "text/plain": [
       "<matplotlib.figure.Figure at 0xd3676d8>"
      ]
     },
     "metadata": {},
     "output_type": "display_data"
    }
   ],
   "source": [
    "pos = []\n",
    "neg = []\n",
    "s_input = input_s[:]\n",
    "for i in tqdm(xrange(0, len(input_s))):\n",
    "    for j in xrange(0, 100):\n",
    "        p, n = rbm2i.train_epoch(input_s[i:(i+1)], 2)\n",
    "        pos.append(p)\n",
    "        neg.append(n)\n",
    "# for i in tqdm(xrange(0,100)):\n",
    "#     p, n = rbm2i.train_epoch(s_input, 10)\n",
    "#     pos.append(p)\n",
    "#     neg.append(n)\n",
    "plot(pos, label=\"Positive\")\n",
    "plot(neg, label=\"Negative\")\n",
    "legend()"
   ]
  },
  {
   "cell_type": "code",
   "execution_count": 181,
   "metadata": {
    "collapsed": false
   },
   "outputs": [
    {
     "name": "stdout",
     "output_type": "stream",
     "text": [
      "Input: [[1 1 1 0 0 0]\n",
      " [1 0 1 0 0 0]\n",
      " [1 1 1 0 0 0]\n",
      " [0 0 1 1 1 0]\n",
      " [0 0 1 1 0 0]\n",
      " [0 0 1 1 1 0]]\n",
      "Output: [[1 0 0]\n",
      " [1 0 0]\n",
      " [1 0 0]\n",
      " [0 0 1]\n",
      " [0 0 1]\n",
      " [0 0 1]]\n",
      "Daydream: [[1 1 1 0 0 0]\n",
      " [1 1 1 0 0 0]\n",
      " [1 1 1 0 0 0]\n",
      " [0 0 1 1 1 0]\n",
      " [0 0 1 1 1 0]\n",
      " [0 0 1 1 1 0]]\n"
     ]
    },
    {
     "data": {
      "text/plain": [
       "array([ 0.,  0.,  0.])"
      ]
     },
     "execution_count": 181,
     "metadata": {},
     "output_type": "execute_result"
    }
   ],
   "source": [
    "print \"Input: %s\" % s_input\n",
    "act, hi = rbm2i.feed_f(s_input)\n",
    "print \"Output: %s\" % hi\n",
    "nact, vi = rbm2i.feed_b(hi)\n",
    "print \"Daydream: %s\" % vi\n",
    "np.zeros(rbm2i.feasize)"
   ]
  },
  {
   "cell_type": "code",
   "execution_count": 182,
   "metadata": {
    "collapsed": false
   },
   "outputs": [
    {
     "name": "stdout",
     "output_type": "stream",
     "text": [
      "Features: [ 1.  0.  0.]\n",
      "Output: [[1 1 1 0 0 0]]\n",
      "Features: [ 0.  1.  0.]\n",
      "Output: [[0 0 0 1 0 0]]\n",
      "Features: [ 0.  0.  1.]\n",
      "Output: [[0 0 1 1 1 0]]\n"
     ]
    }
   ],
   "source": [
    "# Let's look for learned parameters here\n",
    "for i in xrange(0, rbm2i.feasize):\n",
    "    hip = np.zeros(rbm2i.feasize)\n",
    "    hip[i] = 1\n",
    "    print \"Features: %s\" % hip\n",
    "    _, vi = rbm2i.feed_b([hip])\n",
    "    print \"Output: %s\" % vi"
   ]
  },
  {
   "cell_type": "code",
   "execution_count": null,
   "metadata": {
    "collapsed": true
   },
   "outputs": [],
   "source": []
  }
 ],
 "metadata": {
  "kernelspec": {
   "display_name": "Python 2",
   "language": "python",
   "name": "python2"
  },
  "language_info": {
   "codemirror_mode": {
    "name": "ipython",
    "version": 2
   },
   "file_extension": ".py",
   "mimetype": "text/x-python",
   "name": "python",
   "nbconvert_exporter": "python",
   "pygments_lexer": "ipython2",
   "version": "2.7.10"
  }
 },
 "nbformat": 4,
 "nbformat_minor": 0
}
