{
 "cells": [
  {
   "cell_type": "markdown",
   "metadata": {},
   "source": [
    "## Restricted Boltzmann Machines"
   ]
  },
  {
   "cell_type": "code",
   "execution_count": 4,
   "metadata": {
    "collapsed": false
   },
   "outputs": [
    {
     "name": "stdout",
     "output_type": "stream",
     "text": [
      "Populating the interactive namespace from numpy and matplotlib\n"
     ]
    },
    {
     "name": "stderr",
     "output_type": "stream",
     "text": [
      "WARNING: pylab import has clobbered these variables: ['__version__']\n",
      "`%matplotlib` prevents importing * from pylab and numpy\n"
     ]
    }
   ],
   "source": [
    "%pylab inline\n",
    "# import numpy\n",
    "import numpy as np\n",
    "from tqdm import *"
   ]
  },
  {
   "cell_type": "code",
   "execution_count": 5,
   "metadata": {
    "collapsed": false
   },
   "outputs": [],
   "source": [
    "training_data_movies = np.array([[1,1,1,0,0,0],[1,0,1,0,0,0],[1,1,1,0,0,0],[0,0,1,1,1,0], [0,0,1,1,0,0],[0,0,1,1,1,0]])\n",
    "input_s = training_data_movies\n",
    "movies = [\"Harry Potter\",\"Avatar\",\"LOTR\",\"Gladiator\",\"Titanic\",\"Glitter\"]"
   ]
  },
  {
   "cell_type": "markdown",
   "metadata": {},
   "source": [
    "Now let's build a class."
   ]
  },
  {
   "cell_type": "code",
   "execution_count": 6,
   "metadata": {
    "collapsed": false
   },
   "outputs": [],
   "source": [
    "class rbm2(object):\n",
    "    def __init__(self, input_size, feature_size, learning_rate=0.1):\n",
    "        self.inpsize = input_size\n",
    "        self.feasize = feature_size\n",
    "        self.lr = learning_rate\n",
    "        self.weights = np.random.normal(0, 1, (input_size, feature_size))\n",
    "        bj = np.random.normal(0, 1, (1, feature_size))\n",
    "        self.sigmoid = np.vectorize(self.sigmoid)\n",
    "        self.schmitt = np.vectorize(self.schmitt)\n",
    "\n",
    "    def sigmoid(self, x):\n",
    "        return 1 / (1 + math.exp(-x))\n",
    "\n",
    "    def schmitt(self, x):\n",
    "        return (0 if x <= 0.5 else 1)\n",
    "\n",
    "    def feed_f(self, ival):\n",
    "        # No biases yet\n",
    "        hi = self.schmitt(self.sigmoid(np.dot(ival, self.weights)))\n",
    "        input_act = [np.tile(ival[i], (self.feasize, 1)).T for i in xrange(0, len(ival))]\n",
    "        output_act = [np.tile(hi[i], (self.inpsize, 1)) for i in xrange(0, len(hi))]\n",
    "        total_act = [np.multiply(self.lr, np.multiply(input_act[i], output_act[i])) for i in xrange(0, len(input_act))]\n",
    "        return total_act, hi\n",
    "\n",
    "    def feed_b(self, hi):\n",
    "        ival = self.schmitt(self.sigmoid(np.dot(hi, self.weights.T)))\n",
    "        input_act = [np.tile(ival[i], (self.feasize, 1)).T for i in xrange(0, len(ival))]\n",
    "        output_act = [np.tile(hi[i], (self.inpsize, 1)) for i in xrange(0, len(hi))]\n",
    "        total_act = [np.multiply(self.lr, np.multiply(input_act[i], output_act[i])) for i in xrange(0, len(input_act))]\n",
    "        return total_act, ival\n",
    "    \n",
    "    def train_epoch(self, ival, cd_chain):\n",
    "        pos_act, hi = self.feed_f(ival)\n",
    "        neg_act, ival_prime = self.feed_b(hi)\n",
    "#         neg_act, ival_prime = self.feed_b(np.random.randint(2, size=hi.shape))\n",
    "        \n",
    "        for i in xrange(1, cd_chain):\n",
    "            _, hi2 = self.feed_f(ival_prime)\n",
    "            neg_act, ival_prime = self.feed_b(hi2)\n",
    "        \n",
    "        for i in xrange(0, len(pos_act)):\n",
    "            self.weights += (pos_act[i]-neg_act[i])/len(pos_act)\n",
    "        \n",
    "        # Return some indicator of adjustments being made\n",
    "        return np.sum(pos_act), np.sum(neg_act)\n",
    "    \n",
    "#     def train(self, input_s, cd_chain, epochs=100):\n",
    "        \n",
    "        "
   ]
  },
  {
   "cell_type": "code",
   "execution_count": 7,
   "metadata": {
    "collapsed": true
   },
   "outputs": [],
   "source": [
    "np.random.seed(2)\n",
    "rbm2i = rbm2(6, 3, 1)"
   ]
  },
  {
   "cell_type": "code",
   "execution_count": 8,
   "metadata": {
    "collapsed": false
   },
   "outputs": [
    {
     "name": "stderr",
     "output_type": "stream",
     "text": [
      "100%|████████████████████████████████████████████████████████████████████████████████████| 6/6 [00:00<00:00, 30.00it/s]\n"
     ]
    },
    {
     "data": {
      "text/plain": [
       "<matplotlib.legend.Legend at 0x7437cf8>"
      ]
     },
     "execution_count": 8,
     "metadata": {},
     "output_type": "execute_result"
    },
    {
     "data": {
      "image/png": "[encoded data removed]",
      "text/plain": [
       "<matplotlib.figure.Figure at 0x72e2be0>"
      ]
     },
     "metadata": {},
     "output_type": "display_data"
    }
   ],
   "source": [
    "pos = []\n",
    "neg = []\n",
    "s_input = input_s[:]\n",
    "for i in tqdm(xrange(0, len(input_s))):\n",
    "    for j in xrange(0, 100):\n",
    "        p, n = rbm2i.train_epoch(input_s[i:(i+1)], 2)\n",
    "        pos.append(p)\n",
    "        neg.append(n)\n",
    "\n",
    "# for j in tqdm(xrange(0, 500)):\n",
    "#     for i in xrange(0, len(input_s)):\n",
    "#         p, n = rbm2i.train_epoch(input_s[i:(i+1)], 2)\n",
    "#         pos.append(p)\n",
    "#         neg.append(n)\n",
    "        \n",
    "plot(pos, label=\"Positive\")\n",
    "plot(neg, label=\"Negative\")\n",
    "legend()"
   ]
  },
  {
   "cell_type": "code",
   "execution_count": 9,
   "metadata": {
    "collapsed": false
   },
   "outputs": [
    {
     "name": "stdout",
     "output_type": "stream",
     "text": [
      "Input: [[1 1 1 0 0 0]\n",
      " [1 0 1 0 0 0]\n",
      " [1 1 1 0 0 0]\n",
      " [0 0 1 1 1 0]\n",
      " [0 0 1 1 0 0]\n",
      " [0 0 1 1 1 0]]\n",
      "Output: [[1 0 0]\n",
      " [1 0 0]\n",
      " [1 0 0]\n",
      " [0 0 1]\n",
      " [0 0 1]\n",
      " [0 0 1]]\n",
      "Daydream: [[1 1 1 0 0 0]\n",
      " [1 1 1 0 0 0]\n",
      " [1 1 1 0 0 0]\n",
      " [0 0 1 1 1 0]\n",
      " [0 0 1 1 1 0]\n",
      " [0 0 1 1 1 0]]\n"
     ]
    },
    {
     "data": {
      "text/plain": [
       "array([ 0.,  0.,  0.])"
      ]
     },
     "execution_count": 9,
     "metadata": {},
     "output_type": "execute_result"
    }
   ],
   "source": [
    "print \"Input: %s\" % s_input\n",
    "act, hi = rbm2i.feed_f(s_input)\n",
    "print \"Output: %s\" % hi\n",
    "nact, vi = rbm2i.feed_b(hi)\n",
    "print \"Daydream: %s\" % vi\n",
    "np.zeros(rbm2i.feasize)"
   ]
  },
  {
   "cell_type": "code",
   "execution_count": 10,
   "metadata": {
    "collapsed": false
   },
   "outputs": [
    {
     "name": "stdout",
     "output_type": "stream",
     "text": [
      "Features: [ 1.  0.  0.]\n",
      "Output: [[1 1 1 0 0 0]]\n",
      "Movies:  Harry Potter Avatar LOTR\n",
      "Features: [ 0.  1.  0.]\n",
      "Output: [[0 0 0 1 0 0]]\n",
      "Movies:  Gladiator\n",
      "Features: [ 0.  0.  1.]\n",
      "Output: [[0 0 1 1 1 0]]\n",
      "Movies:  LOTR Gladiator Titanic\n"
     ]
    }
   ],
   "source": [
    "# Let's look for learned parameters here\n",
    "for i in xrange(0, rbm2i.feasize):\n",
    "    hip = np.zeros(rbm2i.feasize)\n",
    "    hip[i] = 1\n",
    "    print \"Features: %s\" % hip\n",
    "    _, vi = rbm2i.feed_b([hip])\n",
    "    print \"Output: %s\" % vi\n",
    "    mv = \"\"\n",
    "    for i in xrange(0, len(movies)): \n",
    "        if vi[0,i]!=0: \n",
    "            mv += \" \"+movies[i]\n",
    "    print \"Movies: %s\" % mv"
   ]
  },
  {
   "cell_type": "code",
   "execution_count": null,
   "metadata": {
    "collapsed": true
   },
   "outputs": [],
   "source": []
  },
  {
   "cell_type": "code",
   "execution_count": null,
   "metadata": {
    "collapsed": true
   },
   "outputs": [],
   "source": []
  }
 ],
 "metadata": {
  "kernelspec": {
   "display_name": "Python 2",
   "language": "python",
   "name": "python2"
  },
  "language_info": {
   "codemirror_mode": {
    "name": "ipython",
    "version": 2
   },
   "file_extension": ".py",
   "mimetype": "text/x-python",
   "name": "python",
   "nbconvert_exporter": "python",
   "pygments_lexer": "ipython2",
   "version": "2.7.10"
  }
 },
 "nbformat": 4,
 "nbformat_minor": 0
}
