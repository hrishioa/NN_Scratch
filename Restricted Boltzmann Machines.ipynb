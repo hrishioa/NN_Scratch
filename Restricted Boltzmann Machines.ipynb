{
 "cells": [
  {
   "cell_type": "markdown",
   "metadata": {},
   "source": [
    "## Restricted Boltzmann Machines"
   ]
  },
  {
   "cell_type": "code",
   "execution_count": 3,
   "metadata": {
    "collapsed": false
   },
   "outputs": [
    {
     "name": "stdout",
     "output_type": "stream",
     "text": [
      "Populating the interactive namespace from numpy and matplotlib\n"
     ]
    },
    {
     "name": "stderr",
     "output_type": "stream",
     "text": [
      "WARNING: pylab import has clobbered these variables: ['__version__']\n",
      "`%matplotlib` prevents importing * from pylab and numpy\n"
     ]
    }
   ],
   "source": [
    "%pylab inline\n",
    "# import numpy\n",
    "import numpy as np\n",
    "from tqdm import *"
   ]
  },
  {
   "cell_type": "code",
   "execution_count": 227,
   "metadata": {
    "collapsed": false
   },
   "outputs": [
    {
     "name": "stdout",
     "output_type": "stream",
     "text": [
      "RBM Initialized\n"
     ]
    }
   ],
   "source": [
    "# Define a shallow RBM\n",
    "class rbm(object):\n",
    "    def __init__(self, input_size, hidden_size):\n",
    "        self.weights = self.get_weights((input_size, hidden_size))\n",
    "        self.sigmoid = np.vectorize(self.sigmoid)\n",
    "        self.sigmoid_delta = np.vectorize(self.sigmoid_delta)\n",
    "        self.turn_on = np.vectorize(self.turn_on)\n",
    "        self.schmitt = np.vectorize(self.schmitt)\n",
    "        self.schmitt2 = np.vectorize(self.schmitt2)\n",
    "        \n",
    "    def feed_forward(self, input):\n",
    "        return self.turn_on(self.sigmoid(np.dot(input, self.weights)))\n",
    "    \n",
    "    def get_adjust(self, input):\n",
    "        forward = self.feed_forward(input)\n",
    "        backward = self.feed_backward(forward)\n",
    "        adjust_pos = self.schmitt2((self.schmitt((forward * self.weights))) + (self.schmitt(input * self.weights.T).T)) \n",
    "        adjust_neg = self.schmitt2(self.schmitt(forward * self.weights)+self.schmitt(backward * self.weights.T).T)\n",
    "#         adjust_pos = ((forward * self.weights).T * input).T\n",
    "#         adjust_neg = ((backward * self.weights.T).T * forward)\n",
    "        return adjust_pos - adjust_neg\n",
    "    \n",
    "    def schmitt2(self, input):\n",
    "        return (0 if input == 1 else 1)\n",
    "    \n",
    "    def schmitt(self, input):\n",
    "        return (0 if input == 0 else 1)\n",
    "    \n",
    "    def get_adjustav(self, input, learningrate):\n",
    "        adjust = learningrate * self.schmitt(self.get_adjust(input[0]))\n",
    "        for i in xrange(1, len(input)):\n",
    "            adjust += learningrate * self.schmitt(self.get_adjust(input[i]))\n",
    "        return (adjust / len(input))\n",
    "    \n",
    "    def feed_backward(self, input):\n",
    "        return self.turn_on(self.sigmoid(np.dot(input, self.weights.T)))\n",
    "    \n",
    "    def get_weights(self, dimensions):\n",
    "        return np.random.normal(0,1,dimensions)\n",
    "        \n",
    "    def delta_func1(self, output, truths):\n",
    "        return (output-truths)\n",
    "    \n",
    "    def turn_on(self, a):\n",
    "        return (1 if a > 0.5 else 0)\n",
    "    \n",
    "    def sigmoid(self, z):\n",
    "#         print \"Z: %f\" % z\n",
    "        return 1/(1+np.exp(-z))\n",
    "    \n",
    "    def sigmoid_delta(self, z):\n",
    "        return (np.exp(-z))/((1+np.exp(-z))**2)\n",
    "    \n",
    "print \"RBM Initialized\""
   ]
  },
  {
   "cell_type": "code",
   "execution_count": 228,
   "metadata": {
    "collapsed": true
   },
   "outputs": [],
   "source": [
    "input_XOR = np.transpose(np.array([[0,0],[0,1],[1,0],[1,1]]))\n",
    "gtruth_XOR = np.transpose(np.array([[0],[1],[1],[0]]))\n",
    "input_AND = np.transpose(np.array([[0,0],[0,1],[1,0],[1,1]]))\n",
    "gtruth_AND = np.transpose(np.array([[0],[0],[0],[1]]))"
   ]
  },
  {
   "cell_type": "code",
   "execution_count": 235,
   "metadata": {
    "collapsed": false
   },
   "outputs": [],
   "source": [
    "np.random.seed(1)\n",
    "rbm1 = rbm(6,2)\n",
    "# input_s = input_AND.T\n",
    "training_data = np.array([[1,1,1,0,0,0],[1,0,1,0,0,0],[1,1,1,0,0,0],[0,0,1,1,1,0], [0,0,1,1,0,0],[0,0,1,1,1,0]])\n",
    "input_s = training_data"
   ]
  },
  {
   "cell_type": "code",
   "execution_count": 236,
   "metadata": {
    "collapsed": false
   },
   "outputs": [
    {
     "name": "stdout",
     "output_type": "stream",
     "text": [
      "Adjustf : [[1 0]\n",
      " [0 1]\n",
      " [1 0]\n",
      " [0 1]\n",
      " [0 1]\n",
      " [0 1]]\n",
      "Adjustb1: [[1 1]\n",
      " [0 0]\n",
      " [1 1]\n",
      " [1 1]\n",
      " [1 1]\n",
      " [1 1]]\n",
      "Adjustb2: [[1 0]\n",
      " [1 0]\n",
      " [1 0]\n",
      " [1 0]\n",
      " [1 0]\n",
      " [1 0]]\n",
      "Adjustb : [[1 0]\n",
      " [0 1]\n",
      " [1 0]\n",
      " [1 0]\n",
      " [1 0]\n",
      " [1 0]]\n",
      "Input: [[1 1 1 0 0 0]\n",
      " [1 0 1 0 0 0]\n",
      " [1 1 1 0 0 0]\n",
      " [0 0 1 1 1 0]\n",
      " [0 0 1 1 0 0]\n",
      " [0 0 1 1 1 0]]\n",
      "Weights: [[ 1.62434536 -0.61175641]\n",
      " [-0.52817175 -1.07296862]\n",
      " [ 0.86540763 -2.3015387 ]\n",
      " [ 1.74481176 -0.7612069 ]\n",
      " [ 0.3190391  -0.24937038]\n",
      " [ 1.46210794 -2.06014071]]\n",
      "Forward: [[1 0]\n",
      " [1 0]\n",
      " [1 0]\n",
      " [1 0]\n",
      " [1 0]\n",
      " [1 0]]\n",
      "Backward: [[1 0 1 1 1 1]\n",
      " [1 0 1 1 1 1]\n",
      " [1 0 1 1 1 1]\n",
      " [1 0 1 1 1 1]\n",
      " [1 0 1 1 1 1]\n",
      " [1 0 1 1 1 1]]\n",
      "Adjust: [[ 0.05        0.05      ]\n",
      " [ 0.03333333  0.03333333]\n",
      " [ 0.          0.        ]\n",
      " [ 0.05        0.05      ]\n",
      " [ 0.06666667  0.06666667]\n",
      " [ 0.1         0.1       ]]\n",
      "Adjustin: [[ 0  0]\n",
      " [ 0  0]\n",
      " [ 0  0]\n",
      " [-1  1]\n",
      " [-1  1]\n",
      " [-1  1]]\n",
      "Adjustf2: [[ 1.62434536 -0.        ]\n",
      " [-0.         -0.        ]\n",
      " [ 0.86540763 -0.        ]\n",
      " [ 0.         -0.        ]\n",
      " [ 0.         -0.        ]\n",
      " [ 0.         -0.        ]]\n",
      "Adjustb: [[ 1.62434536 -0.        ]\n",
      " [-0.         -0.        ]\n",
      " [ 0.86540763 -0.        ]\n",
      " [ 1.74481176 -0.        ]\n",
      " [ 0.3190391  -0.        ]\n",
      " [ 1.46210794 -0.        ]]\n"
     ]
    }
   ],
   "source": [
    "print \"Adjustf : %s\" % rbm1.schmitt2((rbm1.schmitt((rbm1.feed_forward(input_s[1]) * rbm1.weights))) + (rbm1.schmitt(input_s[1] * rbm1.weights.T).T)) \n",
    "print \"Adjustb1: %s\" % rbm1.schmitt(rbm1.feed_backward(rbm1.feed_forward(input_s[1])) * rbm1.weights.T).T\n",
    "print \"Adjustb2: %s\" % rbm1.schmitt(rbm1.feed_forward(input_s[1]) * rbm1.weights)\n",
    "print \"Adjustb : %s\" % rbm1.schmitt2(rbm1.schmitt(rbm1.feed_forward(input_s[1]) * rbm1.weights)+rbm1.schmitt(rbm1.feed_backward(rbm1.feed_forward(input_s[1])) * rbm1.weights.T).T)\n",
    "print \"Input: %s\" % input_s\n",
    "print \"Weights: %s\" % rbm1.weights\n",
    "print \"Forward: %s\" % rbm1.feed_forward(input_s)\n",
    "print \"Backward: %s\" % rbm1.feed_backward(rbm1.feed_forward(input_s))\n",
    "print \"Adjust: %s\" % rbm1.get_adjustav(input_s, 0.1)\n",
    "print \"Adjustin: %s\" % rbm1.get_adjust(input_s[1])\n",
    "\n",
    "print \"Adjustf2: %s\" % ((rbm1.feed_forward(input_s[1]) * rbm1.weights).T * input_s[1]).T\n",
    "print \"Adjustb: %s\" % ((rbm1.feed_backward(rbm1.feed_forward(input_s[1])) * rbm1.weights.T).T * rbm1.feed_forward(input_s[1]))"
   ]
  },
  {
   "cell_type": "code",
   "execution_count": 237,
   "metadata": {
    "collapsed": false
   },
   "outputs": [
    {
     "name": "stderr",
     "output_type": "stream",
     "text": [
      "100%|██████████| 1000/1000 [00:04<00:00, 236.20it/s]\n"
     ]
    },
    {
     "data": {
      "text/plain": [
       "[<matplotlib.lines.Line2D at 0x110acfad0>]"
      ]
     },
     "execution_count": 237,
     "metadata": {},
     "output_type": "execute_result"
    },
    {
     "data": {
      "image/png": "[encoded data removed]",
      "text/plain": [
       "<matplotlib.figure.Figure at 0x110496350>"
      ]
     },
     "metadata": {},
     "output_type": "display_data"
    }
   ],
   "source": [
    "learningrate = 0.1\n",
    "res = []\n",
    "for i in tqdm(xrange(0, 1000)):\n",
    "    ad = rbm1.get_adjustav(input_s, learningrate)\n",
    "    res.append(np.sum(np.abs(ad)))\n",
    "    rbm1.weights += ad\n",
    "plot(res)"
   ]
  },
  {
   "cell_type": "code",
   "execution_count": 232,
   "metadata": {
    "collapsed": false
   },
   "outputs": [
    {
     "name": "stdout",
     "output_type": "stream",
     "text": [
      "Adjust: [[0 0]\n",
      " [0 0]\n",
      " [1 1]\n",
      " [0 0]\n",
      " [0 0]\n",
      " [0 0]]\n",
      "Input: [[1 1 1 0 0 0]\n",
      " [1 0 1 0 0 0]\n",
      " [1 1 1 0 0 0]\n",
      " [0 0 1 1 1 0]\n",
      " [0 0 1 1 0 0]\n",
      " [0 0 1 1 1 0]]\n",
      "FF: [[0 0]\n",
      " [0 0]\n",
      " [0 0]\n",
      " [0 0]\n",
      " [0 0]\n",
      " [0 0]]\n",
      "Dream: [[0 0 0 0 0 0]\n",
      " [0 0 0 0 0 0]\n",
      " [0 0 0 0 0 0]\n",
      " [0 0 0 0 0 0]\n",
      " [0 0 0 0 0 0]\n",
      " [0 0 0 0 0 0]]\n"
     ]
    }
   ],
   "source": [
    "print \"Adjust: %s\" % rbm1.get_adjustav(input_s, 1)\n",
    "print \"Input: %s\" % input_s\n",
    "print \"FF: %s\" % rbm1.feed_forward(input_s)\n",
    "print \"Dream: %s\" % rbm1.feed_backward(rbm1.feed_forward(input_s))"
   ]
  },
  {
   "cell_type": "code",
   "execution_count": null,
   "metadata": {
    "collapsed": true
   },
   "outputs": [],
   "source": []
  }
 ],
 "metadata": {
  "kernelspec": {
   "display_name": "Python 2",
   "language": "python",
   "name": "python2"
  },
  "language_info": {
   "codemirror_mode": {
    "name": "ipython",
    "version": 2
   },
   "file_extension": ".py",
   "mimetype": "text/x-python",
   "name": "python",
   "nbconvert_exporter": "python",
   "pygments_lexer": "ipython2",
   "version": "2.7.10"
  }
 },
 "nbformat": 4,
 "nbformat_minor": 0
}
