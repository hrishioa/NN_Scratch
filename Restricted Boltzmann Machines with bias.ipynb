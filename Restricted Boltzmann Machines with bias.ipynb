{
 "cells": [
  {
   "cell_type": "markdown",
   "metadata": {},
   "source": [
    "## Restricted Boltzmann Machines"
   ]
  },
  {
   "cell_type": "code",
   "execution_count": 1,
   "metadata": {
    "collapsed": false
   },
   "outputs": [
    {
     "name": "stdout",
     "output_type": "stream",
     "text": [
      "Populating the interactive namespace from numpy and matplotlib\n"
     ]
    }
   ],
   "source": [
    "%pylab inline\n",
    "# import numpy\n",
    "import numpy as np\n",
    "from tqdm import *\n",
    "import pickle\n",
    "from json_tricks.np import dump, dumps, load, loads, strip_comments"
   ]
  },
  {
   "cell_type": "code",
   "execution_count": 2,
   "metadata": {
    "collapsed": false
   },
   "outputs": [],
   "source": [
    "training_data_movies = np.array([[1,1,1,0,0,0],[1,0,1,0,0,0],[1,1,1,0,0,0],[0,0,1,1,1,0], [0,0,1,1,0,0],[0,0,1,1,1,0]])\n",
    "input_s = training_data_movies\n",
    "movies = [\"Harry Potter\",\"Avatar\",\"LOTR\",\"Gladiator\",\"Titanic\",\"Glitter\"]"
   ]
  },
  {
   "cell_type": "markdown",
   "metadata": {},
   "source": [
    "Now let's build a class."
   ]
  },
  {
   "cell_type": "code",
   "execution_count": 3,
   "metadata": {
    "collapsed": false
   },
   "outputs": [],
   "source": [
    "class rbm2(object):\n",
    "    def __init__(self, input_size, feature_size, learning_rate=0.1):\n",
    "        self.inpsize = input_size\n",
    "        self.feasize = feature_size\n",
    "        self.lr = learning_rate\n",
    "        self.weights = np.random.normal(0, 1, (input_size, feature_size))\n",
    "        self.bj = np.random.normal(0, 1, (1, feature_size))\n",
    "        self.cj = np.random.normal(0, 1, (1, input_size))\n",
    "        self.sigmoid = np.vectorize(self.sigmoid)\n",
    "        self.schmitt = np.vectorize(self.schmitt)\n",
    "\n",
    "    def sigmoid(self, x):\n",
    "        try:\n",
    "            return 1 / (1 + math.exp(-x))\n",
    "        except OverflowError:\n",
    "#             print \"Overflow error on input %f, returning 0\" % x\n",
    "            return 0\n",
    "\n",
    "    def schmitt(self, x):\n",
    "        rand_val = np.random.rand(1)\n",
    "        return (1 if rand_val <= x else 0)\n",
    "\n",
    "    def process(self, ival):\n",
    "        return self.schmitt(self.sigmoid(np.dot(ival, self.weights)+self.bj))\n",
    "\n",
    "    def feed_f(self, ival):\n",
    "        # No biases yet\n",
    "        hi = self.schmitt(self.sigmoid(np.dot(ival, self.weights)+self.bj))\n",
    "        input_act = [np.tile(ival[i], (self.feasize, 1)).T for i in xrange(0, len(ival))]\n",
    "        output_act = [np.tile(hi[i], (self.inpsize, 1)) for i in xrange(0, len(hi))]\n",
    "        total_act = [np.multiply(self.lr, np.multiply(input_act[i], output_act[i])) for i in xrange(0, len(input_act))]\n",
    "        return total_act, hi\n",
    "\n",
    "    def feed_b(self, hi):\n",
    "        ival = self.schmitt(self.sigmoid(np.dot(hi, self.weights.T)+self.cj))\n",
    "        input_act = [np.tile(ival[i], (self.feasize, 1)).T for i in xrange(0, len(ival))]\n",
    "        output_act = [np.tile(hi[i], (self.inpsize, 1)) for i in xrange(0, len(hi))]\n",
    "        total_act = [np.multiply(self.lr, np.multiply(input_act[i], output_act[i])) for i in xrange(0, len(input_act))]\n",
    "        return total_act, ival\n",
    "    \n",
    "    def train_epoch(self, ival, cd_chain):\n",
    "        pos_act, hi = self.feed_f(ival)\n",
    "        neg_act, ival_prime = self.feed_b(hi)\n",
    "        \n",
    "        for i in xrange(1, cd_chain):\n",
    "            _, hi2 = self.feed_f(ival_prime)\n",
    "            neg_act, ival_prime = self.feed_b(hi2)\n",
    "        \n",
    "        for i in xrange(0, len(pos_act)):\n",
    "            self.weights += (pos_act[i]-neg_act[i])/len(pos_act)\n",
    "            self.cj += (self.lr * (ival[i] - ival_prime[i]))/len(pos_act)\n",
    "            self.bj += (self.lr * (hi[i] - hi2[i]))/len(pos_act)\n",
    "        \n",
    "        return np.sum(np.abs(ival_prime-ival))\n",
    "    \n",
    "    def train(self, ivals, cd_chain, epochs=100):\n",
    "        error = []\n",
    "        for i in tqdm(xrange(0,epochs)):\n",
    "            pos = numpy.random.randint(len(ivals))\n",
    "            error.append(self.train_epoch(ivals[pos:pos+1],cd_chain))\n",
    "        return error\n",
    "        \n",
    "    def train_minibatch(self, ivals, cd_chain, epochs=100, batch_size=10):\n",
    "        error = []\n",
    "        for i in xrange(0,epochs):\n",
    "            error.append(self.train_epoch(ivals[np.random.randint(0,len(ivals),batch_size)],cd_chain))\n",
    "        return error       \n",
    "\n",
    "    def save(self, filename):\n",
    "        collection = [self.inpsize, self.feasize, self.lr, self.weights, self.bj, self.cj]\n",
    "        print \"Saving to %s\" % filename\n",
    "        with open(filename, 'w') as savefile:\n",
    "            savefile.write(dumps(collection))\n",
    "            savefile.close()\n",
    "        print \"Saved.\"\n",
    "\n",
    "    @staticmethod\n",
    "    def load(filename):\n",
    "        with open(filename, 'r') as loadfile:\n",
    "            collection = loads(loadfile.read())\n",
    "            inpsize = collection[0]\n",
    "            feasize = collection[1]\n",
    "            lr = collection[2]\n",
    "            newrbm = rbm2(inpsize, feasize, lr)\n",
    "            newrbm.weights = collection[3]\n",
    "            newrbm.bj = collection[4]\n",
    "            newrbm.cj = collection[5]\n",
    "        return newrbm"
   ]
  },
  {
   "cell_type": "code",
   "execution_count": 21,
   "metadata": {
    "collapsed": false
   },
   "outputs": [],
   "source": [
    "np.random.seed(2)\n",
    "rbm2i = rbm2(6, 3, 0.1)"
   ]
  },
  {
   "cell_type": "code",
   "execution_count": 22,
   "metadata": {
    "collapsed": false,
    "scrolled": true
   },
   "outputs": [
    {
     "data": {
      "text/plain": [
       "<matplotlib.legend.Legend at 0x287745f8>"
      ]
     },
     "execution_count": 22,
     "metadata": {},
     "output_type": "execute_result"
    },
    {
     "data": {
      "image/png": "[encoded data removed]",
      "text/plain": [
       "<matplotlib.figure.Figure at 0x28774828>"
      ]
     },
     "metadata": {},
     "output_type": "display_data"
    }
   ],
   "source": [
    "res = rbm2i.train_minibatch(input_s, 2, 5000, 10)\n",
    "plot(res, label=\"Error\")\n",
    "legend()"
   ]
  },
  {
   "cell_type": "code",
   "execution_count": 23,
   "metadata": {
    "collapsed": false
   },
   "outputs": [
    {
     "name": "stdout",
     "output_type": "stream",
     "text": [
      "Features: [ 1.  0.  0.]\n",
      "Movies:  Harry Potter Avatar LOTR\n",
      "Features: [ 0.  1.  0.]\n",
      "Movies:  LOTR Gladiator\n",
      "Features: [ 0.  0.  1.]\n",
      "Movies:  LOTR Gladiator Titanic\n"
     ]
    }
   ],
   "source": [
    "# Let's look for learned parameters here\n",
    "for i in xrange(0, rbm2i.feasize):\n",
    "    hip = np.zeros(rbm2i.feasize)\n",
    "    hip[i] = 1\n",
    "    print \"Features: %s\" % hip\n",
    "    _, vi = rbm2i.feed_b([hip])\n",
    "#     print \"Output: %s\" % vi\n",
    "    mv = \"\"\n",
    "    for i in xrange(0, len(movies)): \n",
    "        if vi[0,i]!=0: \n",
    "            mv += \" \"+movies[i]\n",
    "    print \"Movies: %s\" % mv"
   ]
  },
  {
   "cell_type": "markdown",
   "metadata": {},
   "source": [
    "We can clearly see that the first and the last features are sci-fi and oscar winners. The middle one seems to be fantasy."
   ]
  },
  {
   "cell_type": "markdown",
   "metadata": {
    "collapsed": true
   },
   "source": [
    "## MNIST Dataset\n",
    "Now let's try using the MNIST dataset for training, much like we did with the perceptrons."
   ]
  },
  {
   "cell_type": "code",
   "execution_count": 4,
   "metadata": {
    "collapsed": true
   },
   "outputs": [],
   "source": [
    "from mnist import MNIST\n",
    "mndata = MNIST('mnist')\n",
    "data = mndata.load_training()"
   ]
  },
  {
   "cell_type": "code",
   "execution_count": 5,
   "metadata": {
    "collapsed": true
   },
   "outputs": [],
   "source": [
    "training_images = data[0]\n",
    "training_labels = data[1]"
   ]
  },
  {
   "cell_type": "code",
   "execution_count": 6,
   "metadata": {
    "collapsed": true
   },
   "outputs": [],
   "source": [
    "def out_process(digit):\n",
    "    outv = np.zeros(10)\n",
    "    outv[digit] = 1\n",
    "    return outv\n",
    "def in_process(inval):\n",
    "    return inval/255.0"
   ]
  },
  {
   "cell_type": "code",
   "execution_count": 7,
   "metadata": {
    "collapsed": false
   },
   "outputs": [],
   "source": [
    "## Reshape and fit training data\n",
    "selection_max = len(training_images)\n",
    "def load_images(inp, selection_max, T=True):\n",
    "    if(selection_max == -1): selection_max = len(inp)\n",
    "    if(T):\n",
    "        return in_process(np.matrix(inp[0:selection_max]).T)\n",
    "    else:\n",
    "        return in_process(np.matrix(inp[0:selection_max]).T)\n",
    "\n",
    "training_data = load_images(training_images, selection_max)"
   ]
  },
  {
   "cell_type": "code",
   "execution_count": 8,
   "metadata": {
    "collapsed": true
   },
   "outputs": [],
   "source": [
    "## Reshape and fit labels\n",
    "def load_labels(inp, selection_max):\n",
    "    return numpy.apply_along_axis(func1d=out_process, arr=np.matrix(inp[0:selection_max]), axis=0)\n",
    "training_data_l = load_labels(training_labels, selection_max)"
   ]
  },
  {
   "cell_type": "code",
   "execution_count": 9,
   "metadata": {
    "collapsed": true
   },
   "outputs": [],
   "source": [
    "def getbatch(training_set, training_set_l, batch_size=50):\n",
    "    l, b = training_set.shape\n",
    "    selection = np.random.randint(0,b, size=batch_size)\n",
    "    return (training_set[:,np.array(selection)], training_set_l[:,np.array(selection)])\n",
    "a, b = getbatch(training_data, training_data_l, 50)"
   ]
  },
  {
   "cell_type": "code",
   "execution_count": 30,
   "metadata": {
    "collapsed": false
   },
   "outputs": [
    {
     "name": "stderr",
     "output_type": "stream",
     "text": [
      "100%|█████████████████████████████████████████████████████████████████████████████| 1000/1000 [00:09<00:00, 104.64it/s]\n"
     ]
    },
    {
     "data": {
      "text/plain": [
       "<matplotlib.legend.Legend at 0x28930f98>"
      ]
     },
     "execution_count": 30,
     "metadata": {},
     "output_type": "execute_result"
    },
    {
     "data": {
      "image/png": "[encoded data removed]",
      "text/plain": [
       "<matplotlib.figure.Figure at 0x28930e80>"
      ]
     },
     "metadata": {},
     "output_type": "display_data"
    }
   ],
   "source": [
    "np.random.seed(1)\n",
    "mnistrbm = rbm2(len(training_images[0]),100,0.1)\n",
    "plot(mnistrbm.train(a.T, 2, 1000), label=\"error\")\n",
    "legend()"
   ]
  },
  {
   "cell_type": "code",
   "execution_count": 10,
   "metadata": {
    "collapsed": false
   },
   "outputs": [],
   "source": [
    "np.random.seed(1)\n",
    "mnistrbm = rbm2(len(training_images[0]),64,1.)"
   ]
  },
  {
   "cell_type": "markdown",
   "metadata": {},
   "source": [
    "Now let's try training on the entire dataset (hopefully it will finish soon):"
   ]
  },
  {
   "cell_type": "code",
   "execution_count": 10,
   "metadata": {
    "collapsed": true
   },
   "outputs": [],
   "source": [
    "res = []\n",
    "inp = training_data[:,:].T"
   ]
  },
  {
   "cell_type": "code",
   "execution_count": 18,
   "metadata": {
    "collapsed": false
   },
   "outputs": [
    {
     "name": "stderr",
     "output_type": "stream",
     "text": [
      "100%|████████████████████████████████████████████████████████████████████████████| 2500/2500 [1:25:38<00:00,  1.97s/it]\n"
     ]
    },
    {
     "data": {
      "text/plain": [
       "<matplotlib.legend.Legend at 0x782ef28>"
      ]
     },
     "execution_count": 18,
     "metadata": {},
     "output_type": "execute_result"
    },
    {
     "data": {
      "image/png": "[encoded data removed]",
      "text/plain": [
       "<matplotlib.figure.Figure at 0x782ee80>"
      ]
     },
     "metadata": {},
     "output_type": "display_data"
    }
   ],
   "source": [
    "for i in tqdm(xrange(0, 2500)):\n",
    "    res += mnistrbm.train_minibatch(inp, 5, 10, 10)\n",
    "plot(res, label=\"error\")\n",
    "legend()"
   ]
  },
  {
   "cell_type": "code",
   "execution_count": 21,
   "metadata": {
    "collapsed": false
   },
   "outputs": [
    {
     "name": "stdout",
     "output_type": "stream",
     "text": [
      "Saving to mnistrbm.rbm\n",
      "Saved.\n",
      "Wall time: 64 ms\n"
     ]
    }
   ],
   "source": [
    "%%time\n",
    "mnistrbm.save('mnistrbm.rbm')"
   ]
  },
  {
   "cell_type": "code",
   "execution_count": 22,
   "metadata": {
    "collapsed": true
   },
   "outputs": [],
   "source": [
    "mnistrbm2 = rbm2.load('mnistrbm.rbm')"
   ]
  },
  {
   "cell_type": "markdown",
   "metadata": {},
   "source": [
    "Now let's try developing level two of the DBM, reduce the output down to four units."
   ]
  },
  {
   "cell_type": "code",
   "execution_count": 23,
   "metadata": {
    "collapsed": false
   },
   "outputs": [
    {
     "name": "stdout",
     "output_type": "stream",
     "text": [
      "Wall time: 12.9 s\n"
     ]
    }
   ],
   "source": [
    "%%time\n",
    "level2 = mnistrbm2.process(inp)"
   ]
  },
  {
   "cell_type": "code",
   "execution_count": 24,
   "metadata": {
    "collapsed": false
   },
   "outputs": [],
   "source": [
    "np.random.seed(1)\n",
    "mnistrbm_l2 = rbm2(level2.shape[1],2,1.)"
   ]
  },
  {
   "cell_type": "code",
   "execution_count": 25,
   "metadata": {
    "collapsed": false
   },
   "outputs": [
    {
     "name": "stderr",
     "output_type": "stream",
     "text": [
      "100%|████████████████████████████████████████████████████████████████████████████| 10000/10000 [29:14<00:00,  5.80it/s]\n"
     ]
    },
    {
     "data": {
      "text/plain": [
       "<matplotlib.legend.Legend at 0xc78c630>"
      ]
     },
     "execution_count": 25,
     "metadata": {},
     "output_type": "execute_result"
    },
    {
     "data": {
      "image/png": "[encoded data removed]",
      "text/plain": [
       "<matplotlib.figure.Figure at 0xc78c518>"
      ]
     },
     "metadata": {},
     "output_type": "display_data"
    }
   ],
   "source": [
    "res2 = []\n",
    "inpl2 = level2[:,:]\n",
    "for i in tqdm(xrange(0, 10000)):\n",
    "    res2 += mnistrbm_l2.train_minibatch(inpl2, 5, 10, 10)\n",
    "plot(res2, label=\"error\")\n",
    "legend()"
   ]
  },
  {
   "cell_type": "code",
   "execution_count": 26,
   "metadata": {
    "collapsed": false
   },
   "outputs": [
    {
     "name": "stdout",
     "output_type": "stream",
     "text": [
      "Saving to mnistrbml2.rbm\n",
      "Saved.\n",
      "Wall time: 24 ms\n"
     ]
    }
   ],
   "source": [
    "%%time\n",
    "mnistrbm_l2.save('mnistrbml2.rbm')"
   ]
  },
  {
   "cell_type": "markdown",
   "metadata": {},
   "source": [
    "Now let's try modifying the RBM to perform in proper CRBM operation using directions from geoffrey hinton's guide. The first thing is the input transformation - "
   ]
  },
  {
   "cell_type": "code",
   "execution_count": 20,
   "metadata": {
    "collapsed": false
   },
   "outputs": [],
   "source": [
    "inp_gaussian = (inp-np.mean(inp))/np.std(inp)"
   ]
  },
  {
   "cell_type": "markdown",
   "metadata": {},
   "source": [
    "The next thing is to modify the RBM so that there is a Linear Rectified Unit transformation at the hidden units."
   ]
  },
  {
   "cell_type": "code",
   "execution_count": 21,
   "metadata": {
    "collapsed": true
   },
   "outputs": [],
   "source": [
    "def schmitt2(x):\n",
    "        rand_val = np.random.rand(1)\n",
    "        return np.max([0,(1 if rand_val <= x else 0)])"
   ]
  },
  {
   "cell_type": "code",
   "execution_count": 22,
   "metadata": {
    "collapsed": true
   },
   "outputs": [],
   "source": [
    "mnistcrbm = rbm2(len(training_images[0]), 64, 1.)\n",
    "mnistcrbm.schmitt = np.vectorize(schmitt2)"
   ]
  },
  {
   "cell_type": "code",
   "execution_count": 23,
   "metadata": {
    "collapsed": false
   },
   "outputs": [
    {
     "name": "stderr",
     "output_type": "stream",
     "text": [
      "100%|█| 1000/1000 [1:44:45<00:00,  6.15s/it]\n"
     ]
    },
    {
     "data": {
      "text/plain": [
       "[<matplotlib.lines.Line2D at 0xccc9940>]"
      ]
     },
     "execution_count": 23,
     "metadata": {},
     "output_type": "execute_result"
    },
    {
     "data": {
      "image/png": "[encoded data removed]",
      "text/plain": [
       "<matplotlib.figure.Figure at 0xc74d7f0>"
      ]
     },
     "metadata": {},
     "output_type": "display_data"
    }
   ],
   "source": [
    "np.random.seed(1)\n",
    "res = []\n",
    "for i in tqdm(xrange(0, 1000)):\n",
    "    res += mnistcrbm.train_minibatch(inp_gaussian, 5, 10, 10)\n",
    "plot(res)"
   ]
  },
  {
   "cell_type": "code",
   "execution_count": null,
   "metadata": {
    "collapsed": true
   },
   "outputs": [],
   "source": [
    "\n"
   ]
  },
  {
   "cell_type": "code",
   "execution_count": null,
   "metadata": {
    "collapsed": true
   },
   "outputs": [],
   "source": []
  }
 ],
 "metadata": {
  "kernelspec": {
   "display_name": "Python 2",
   "language": "python",
   "name": "python2"
  },
  "language_info": {
   "codemirror_mode": {
    "name": "ipython",
    "version": 2
   },
   "file_extension": ".py",
   "mimetype": "text/x-python",
   "name": "python",
   "nbconvert_exporter": "python",
   "pygments_lexer": "ipython2",
   "version": "2.7.10"
  }
 },
 "nbformat": 4,
 "nbformat_minor": 0
}
