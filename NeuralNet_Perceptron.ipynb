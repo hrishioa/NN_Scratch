{
 "cells": [
  {
   "cell_type": "markdown",
   "metadata": {},
   "source": [
    "## Imports"
   ]
  },
  {
   "cell_type": "code",
   "execution_count": 4,
   "metadata": {
    "collapsed": false
   },
   "outputs": [
    {
     "name": "stdout",
     "output_type": "stream",
     "text": [
      "Populating the interactive namespace from numpy and matplotlib\n"
     ]
    },
    {
     "name": "stderr",
     "output_type": "stream",
     "text": [
      "/Users/hrishioa/Library/Enthought/Canopy_64bit/User/lib/python2.7/site-packages/matplotlib/font_manager.py:273: UserWarning: Matplotlib is building the font cache using fc-list. This may take a moment.\n",
      "  warnings.warn('Matplotlib is building the font cache using fc-list. This may take a moment.')\n"
     ]
    }
   ],
   "source": [
    "%pylab inline\n",
    "import numpy as np\n",
    "from tqdm import *"
   ]
  },
  {
   "cell_type": "markdown",
   "metadata": {},
   "source": [
    "Initialization\n",
    "-------------\n",
    "\n",
    "Set up Hyperparameters\n",
    "* InputSize\n",
    "* OutputSize\n",
    "* HiddenLayerWidth\n",
    "* HiddenLayerHeight"
   ]
  },
  {
   "cell_type": "code",
   "execution_count": 11,
   "metadata": {
    "collapsed": false
   },
   "outputs": [],
   "source": [
    "class perceptron(object):\n",
    "    def __init__(self, input_size, output_size, hl_neurons, hl_layers, learningrate):\n",
    "        self.learningrate = learningrate\n",
    "        self.input_size = input_size\n",
    "        self.output_size = output_size\n",
    "        self.hl_neurons = hl_neurons\n",
    "        self.hl_layers = hl_layers\n",
    "        \n",
    "        # Now setup the weights in this format (inputs x neurons)\n",
    "        self.weights = []\n",
    "        self.ths = []\n",
    "        self.weights.append(self.get_weights((hl_neurons, input_size)))\n",
    "        self.ths.append(self.get_weights((hl_neurons, 1)))\n",
    "        for i in xrange(1, hl_layers):\n",
    "            self.weights.append(self.get_weights((hl_neurons, hl_neurons)))\n",
    "            self.ths.append(self.get_weights((hl_neurons, 1)))\n",
    "        self.weights.append(self.get_weights((output_size, hl_neurons)))\n",
    "        self.ths.append(self.get_weights((output_size, 1)))\n",
    "        self.delta_func = self.delta_func1\n",
    "        self.sigmoid = np.vectorize(self.sigmoid)\n",
    "        self.sigmoid_delta = np.vectorize(self.sigmoid_delta)\n",
    "        \n",
    "    def get_weights(self, dimensions):\n",
    "        return np.random.normal(0,1,dimensions)\n",
    "        \n",
    "    def delta_func1(self, output, truths):\n",
    "        return (output-truths)\n",
    "    \n",
    "    def sigmoid(self, z):\n",
    "        return 1/(1+np.exp(-z))\n",
    "    \n",
    "    def sigmoid_delta(self, z):\n",
    "        return (np.exp(-z))/((1+np.exp(-z))**2)\n",
    "    \n",
    "    def push_forward(self, inputs):\n",
    "        A = []\n",
    "        Z = []\n",
    "        output = inputs\n",
    "        for i in xrange(0, len(self.weights)):\n",
    "#             print \"performing %f * %f + %f\" % (np.max(self.weights[i]), np.max(output), np.max(self.ths[i]))\n",
    "            normno = len(output)\n",
    "            output = np.dot(self.weights[i], output)\n",
    "            output /= normno\n",
    "#             print \"Dividing by %d neurons\" % normno\n",
    "            output += self.ths[i]\n",
    "            Z.append(output)\n",
    "            output = self.sigmoid(output)\n",
    "            A.append(output)\n",
    "        return A, Z, output\n",
    "    \n",
    "    def feed_forward(self, inputs):\n",
    "        print \"input = %s\" % (inputs)\n",
    "        _, _, output = self.push_forward(inputs)\n",
    "        return output\n",
    "    \n",
    "    def multiply_and_average(self, delta, A):\n",
    "        At = np.transpose(A)\n",
    "        # Multiply the two, see if they're compatible (faster than throwing an exception)\n",
    "        _ = np.dot(delta,At)\n",
    "        ws = []\n",
    "        for i in xrange(0, len(delta[0])):\n",
    "            di = delta[:,[i]]\n",
    "            Ai = At[[i],:]\n",
    "            ws.append(np.dot(di, Ai))\n",
    "        return np.mean(ws,axis=0)\n",
    "    \n",
    "    def train(self, inputs, truths):\n",
    "        # First get the error and delta for output layer\n",
    "        A, Z, output = self.push_forward(inputs)\n",
    "#         curdelta = np.multiply((output - truths),self.sigmoid_delta(Z[len(Z)-1]))\n",
    "        curdelta = np.multiply(self.delta_func(output, truths),self.sigmoid_delta(Z[len(Z)-1]))\n",
    "        deltas = [curdelta]\n",
    "        for i in reversed(xrange(0, len(self.weights)-1)):\n",
    "            curdelta = np.multiply(np.dot(np.transpose(self.weights[i+1]), curdelta),\n",
    "                                   self.sigmoid_delta(Z[i]))\n",
    "            deltas.insert(0, curdelta)        \n",
    "        A.insert(0,inputs)\n",
    "        for i in reversed(xrange(0, len(self.weights))):\n",
    "            self.weights[i] -= (self.learningrate * np.dot(deltas[i], A[i].T))\n",
    "            tmp = np.mean(deltas[i],axis=1)\n",
    "            tmp = np.matrix(tmp)\n",
    "            tmp = tmp.T\n",
    "            try:\n",
    "                self.ths[i] -= (self.learningrate * tmp)\n",
    "            except ValueError:\n",
    "#                 print \"tmp - %s\" % tmp\n",
    "#                 print \"ths - %s\" % self.ths[i]\n",
    "                self.ths[i] -= (self.learningrate * tmp.T)\n",
    "            \n",
    "        return np.mean(abs(truths - output))"
   ]
  },
  {
   "cell_type": "markdown",
   "metadata": {},
   "source": [
    "Testing Input (AND)\n",
    "---------\n",
    "Sample truth table for AND:\n",
    "\n",
    "A | B | **Output**\n",
    "--- | --- | ---\n",
    "0 | 0 | 0\n",
    "0 | 1 | 0\n",
    "1 | 0 | 0\n",
    "1 | 1 | 1"
   ]
  },
  {
   "cell_type": "code",
   "execution_count": 12,
   "metadata": {
    "collapsed": false
   },
   "outputs": [],
   "source": [
    "input_XOR = np.transpose(np.array([[0,0],[0,1],[1,0],[1,1]]))\n",
    "gtruth_XOR = np.transpose(np.array([[0],[1],[1],[0]]))\n",
    "input_AND = np.transpose(np.array([[0,0],[0,1],[1,0],[1,1]]))\n",
    "gtruth_AND = np.transpose(np.array([[0],[0],[0],[1]]))"
   ]
  },
  {
   "cell_type": "code",
   "execution_count": 13,
   "metadata": {
    "collapsed": false
   },
   "outputs": [
    {
     "name": "stdout",
     "output_type": "stream",
     "text": [
      "input = [[0 0 1 1]\n",
      " [0 1 0 1]]\n",
      "Final Results: [[ 0.50989372  0.50090598  0.49967721  0.49047048]]\n",
      "CPU times: user 568 ms, sys: 31.3 ms, total: 599 ms\n",
      "Wall time: 982 ms\n"
     ]
    },
    {
     "data": {
      "image/png": "[encoded data removed]",
      "text/plain": [
       "<matplotlib.figure.Figure at 0x103adabd0>"
      ]
     },
     "metadata": {},
     "output_type": "display_data"
    }
   ],
   "source": [
    "%%time\n",
    "np.random.seed(1)\n",
    "pp = perceptron(2, 1, 1, 1, 1.0)\n",
    "results = []\n",
    "for i in xrange(0, 1000): results.append(pp.train(input_XOR, gtruth_XOR))\n",
    "plot(results)\n",
    "print \"Final Results: %s\" % pp.feed_forward(input_XOR)"
   ]
  },
  {
   "cell_type": "markdown",
   "metadata": {},
   "source": [
    "We can clearly see the training fail here, when we're training for XOR with only one neuron in the hidden layer, and the training fails. Let's try with two neurons:"
   ]
  },
  {
   "cell_type": "code",
   "execution_count": 14,
   "metadata": {
    "collapsed": false,
    "scrolled": true
   },
   "outputs": [
    {
     "name": "stderr",
     "output_type": "stream",
     "text": [
      "100%|██████████| 1000/1000 [00:01<00:00, 947.91it/s]"
     ]
    },
    {
     "name": "stdout",
     "output_type": "stream",
     "text": [
      "input = [[0 0 1 1]\n",
      " [0 1 0 1]]\n",
      "Final Results = [[ 0.01227833  0.97995318  0.98203135  0.02233572]]\n",
      "CPU times: user 686 ms, sys: 25 ms, total: 711 ms\n",
      "Wall time: 1.35 s\n"
     ]
    },
    {
     "name": "stderr",
     "output_type": "stream",
     "text": [
      "\n"
     ]
    },
    {
     "data": {
      "image/png": "[encoded data removed]",
      "text/plain": [
       "<matplotlib.figure.Figure at 0x10b9dead0>"
      ]
     },
     "metadata": {},
     "output_type": "display_data"
    }
   ],
   "source": [
    "%%time\n",
    "np.random.seed(1)\n",
    "pp2 = perceptron(2, 1, 3, 1, 10)\n",
    "plot([(pp2.train(input_XOR, gtruth_XOR)) for i in tqdm(xrange(0, 1000))])\n",
    "print \"Final Results = %s\" % pp2.feed_forward(input_XOR)"
   ]
  },
  {
   "cell_type": "markdown",
   "metadata": {},
   "source": [
    "The results look much better now."
   ]
  },
  {
   "cell_type": "code",
   "execution_count": 15,
   "metadata": {
    "collapsed": false
   },
   "outputs": [
    {
     "name": "stdout",
     "output_type": "stream",
     "text": [
      "input = [[1], [0]]\n"
     ]
    },
    {
     "data": {
      "text/plain": [
       "array([[ 0.98203135]])"
      ]
     },
     "execution_count": 15,
     "metadata": {},
     "output_type": "execute_result"
    }
   ],
   "source": [
    "pp2.feed_forward([[1],[0]])"
   ]
  },
  {
   "cell_type": "markdown",
   "metadata": {},
   "source": [
    "Cross Entropy\n",
    "------------\n",
    "\n",
    "Now let us try modifying the cost function, see if we can't speed up computation a bit.\n",
    "The ordinary cost derivative being used is:\n",
    "$$\\frac{dE}{dA} = (a-y)$$\n",
    "Cross entropy uses the following function:\n",
    "$$\\frac{dE}{dA} = \\frac{a-y}{a(1-a)}$$"
   ]
  },
  {
   "cell_type": "code",
   "execution_count": 16,
   "metadata": {
    "collapsed": true
   },
   "outputs": [],
   "source": [
    "def cross_delta(output, truths):\n",
    "    return (output - truths)/(np.multiply(output,(1-output)))"
   ]
  },
  {
   "cell_type": "code",
   "execution_count": 18,
   "metadata": {
    "collapsed": false
   },
   "outputs": [
    {
     "name": "stderr",
     "output_type": "stream",
     "text": [
      "100%|██████████| 5000/5000 [00:02<00:00, 2002.44it/s]\n",
      "100%|██████████| 5000/5000 [00:04<00:00, 1155.05it/s]"
     ]
    },
    {
     "name": "stdout",
     "output_type": "stream",
     "text": [
      "input = [[0 0 1 1]\n",
      " [0 1 0 1]]\n",
      "Cross Entropy Final Results = [[  1.01614339e-03   9.99354624e-01   9.97951898e-01   8.63890463e-04]]\n",
      "input = [[0 0 1 1]\n",
      " [0 1 0 1]]\n",
      "L2NORM        Final Results = [[ 0.02620925  0.97927702  0.96468645  0.02231536]]\n",
      "CPU times: user 4.93 s, sys: 67.8 ms, total: 5 s\n",
      "Wall time: 7.03 s\n"
     ]
    },
    {
     "name": "stderr",
     "output_type": "stream",
     "text": [
      "\n"
     ]
    },
    {
     "data": {
      "image/png": "[encoded data removed]",
      "text/plain": [
       "<matplotlib.figure.Figure at 0x10b9de350>"
      ]
     },
     "metadata": {},
     "output_type": "display_data"
    }
   ],
   "source": [
    "%%time\n",
    "np.random.seed(2)\n",
    "pp2 = perceptron(2, 1, 3, 1, 1)\n",
    "np.random.seed(2)\n",
    "pp3 = perceptron(2, 1, 3, 1, 1)\n",
    "pp3.delta_func = cross_delta\n",
    "plot([(pp3.train(input_XOR, gtruth_XOR)) for i in tqdm(xrange(0, 5000))], \"green\",label = \"Cross Entropy\")\n",
    "plot([(pp2.train(input_XOR, gtruth_XOR)) for i in tqdm(xrange(0, 5000))], \"blue\", label = \"L2NORM\")\n",
    "legend()\n",
    "print \"Cross Entropy Final Results = %s\" % pp3.feed_forward(input_XOR)\n",
    "print \"L2NORM        Final Results = %s\" % pp2.feed_forward(input_XOR)"
   ]
  },
  {
   "cell_type": "markdown",
   "metadata": {},
   "source": [
    "We can clearly see the difference in training speed and training time."
   ]
  },
  {
   "cell_type": "markdown",
   "metadata": {},
   "source": [
    "Digit Classification\n",
    "----\n",
    "\n",
    "Now let's load some MNIST digits and attempt classification. We'll use the MNIST package to make loading from the compressed files easier."
   ]
  },
  {
   "cell_type": "code",
   "execution_count": 19,
   "metadata": {
    "collapsed": false
   },
   "outputs": [],
   "source": [
    "from mnist import MNIST\n",
    "mndata = MNIST('mnist')\n",
    "data = mndata.load_training()"
   ]
  },
  {
   "cell_type": "code",
   "execution_count": 131,
   "metadata": {
    "collapsed": false
   },
   "outputs": [],
   "source": [
    "training_images = data[0]\n",
    "training_labels = data[1]"
   ]
  },
  {
   "cell_type": "markdown",
   "metadata": {},
   "source": [
    "Now we can attempt to create a neural net that can process the data. First thing is something to convert label data into useful ground truths for the perceptron, as well as some input processing to normalize input data."
   ]
  },
  {
   "cell_type": "code",
   "execution_count": 132,
   "metadata": {
    "collapsed": false
   },
   "outputs": [],
   "source": [
    "def out_process(digit):\n",
    "    outv = np.zeros(10)\n",
    "    outv[digit] = 1\n",
    "    return outv\n",
    "def in_process(inval):\n",
    "    return inval/255.0"
   ]
  },
  {
   "cell_type": "code",
   "execution_count": 133,
   "metadata": {
    "collapsed": false
   },
   "outputs": [],
   "source": [
    "np.random.seed(1)\n",
    "mnist_pp = perceptron(len(training_images[0]), 10, 15, 2, 0.1)"
   ]
  },
  {
   "cell_type": "code",
   "execution_count": 134,
   "metadata": {
    "collapsed": false
   },
   "outputs": [],
   "source": [
    "## Reshape and fit training data\n",
    "# selection_max = 100\n",
    "selection_max = len(training_images)\n",
    "def load_images(inp, selection_max, T=True):\n",
    "    if(selection_max == -1): selection_max = len(inp)\n",
    "    if(T):\n",
    "        return in_process(np.matrix(inp[0:selection_max]).T)\n",
    "    else:\n",
    "        return in_process(np.matrix(inp[0:selection_max]).T)\n",
    "\n",
    "training_data = load_images(training_images, selection_max)"
   ]
  },
  {
   "cell_type": "code",
   "execution_count": 135,
   "metadata": {
    "collapsed": false
   },
   "outputs": [],
   "source": [
    "## Reshape and fit labels\n",
    "def load_labels(inp, selection_max):\n",
    "    return numpy.apply_along_axis(func1d=out_process, arr=np.matrix(inp[0:selection_max]), axis=0)\n",
    "training_data_l = load_labels(training_labels, selection_max)"
   ]
  },
  {
   "cell_type": "code",
   "execution_count": 30,
   "metadata": {
    "collapsed": false
   },
   "outputs": [
    {
     "name": "stdout",
     "output_type": "stream",
     "text": [
      "Wall time: 3.77 s\n"
     ]
    }
   ],
   "source": [
    "%%time\n",
    "## Testing feed forward\n",
    "y = mnist_pp.feed_forward(training_data)"
   ]
  },
  {
   "cell_type": "code",
   "execution_count": 31,
   "metadata": {
    "collapsed": false
   },
   "outputs": [
    {
     "name": "stdout",
     "output_type": "stream",
     "text": [
      "(10L, 60000L)\n",
      "(10L, 60000L)\n",
      "0.899602980018\n"
     ]
    }
   ],
   "source": [
    "error = y - training_data_l\n",
    "print y.shape\n",
    "print training_data_l.shape\n",
    "_, _, output = mnist_pp.push_forward(training_data)\n",
    "print np.mean(abs(training_data_l - output))"
   ]
  },
  {
   "cell_type": "code",
   "execution_count": null,
   "metadata": {
    "collapsed": false
   },
   "outputs": [
    {
     "name": "stderr",
     "output_type": "stream",
     "text": [
      "  0%|▏                                                                                     | 2/1000 [00:21<2:57:32, 10.67s/it]C:\\Program Files\\Anaconda2\\lib\\site-packages\\ipykernel\\__main__.py:27: RuntimeWarning: overflow encountered in exp\n",
      "C:\\Program Files\\Anaconda2\\lib\\site-packages\\ipykernel\\__main__.py:30: RuntimeWarning: overflow encountered in exp\n",
      "C:\\Program Files\\Anaconda2\\lib\\site-packages\\ipykernel\\__main__.py:30: RuntimeWarning: invalid value encountered in double_scalars\n",
      "  1%|▌                                                                                     | 6/1000 [01:21<3:56:23, 14.27s/it]"
     ]
    }
   ],
   "source": [
    "%%time\n",
    "## Fingers crossed, try training\n",
    "plot([(mnist_pp.train(training_data, training_data_l)) for i in tqdm(xrange(0, 1000))], \"green\",label = \"Cost\")\n",
    "legend()"
   ]
  },
  {
   "cell_type": "markdown",
   "metadata": {},
   "source": [
    "For the safety of time, let's start using cross entropy."
   ]
  },
  {
   "cell_type": "code",
   "execution_count": 24,
   "metadata": {
    "collapsed": false
   },
   "outputs": [
    {
     "name": "stdout",
     "output_type": "stream",
     "text": [
      "Wall time: 0 ns\n"
     ]
    }
   ],
   "source": [
    "%%time\n",
    "np.random.seed(1)\n",
    "mnist_pp2 = perceptron(len(training_images[0]), 10, 15, 2, 0.1)\n",
    "mnist_pp2.delta_func = cross_delta"
   ]
  },
  {
   "cell_type": "markdown",
   "metadata": {
    "collapsed": false
   },
   "source": [
    "%%time\n",
    "res = [float((mnist_pp2.train(training_data, training_data_l))) for i in tqdm(xrange(0, 10000))]\n",
    "plot(res, \"green\",label = \"Cost\")\n",
    "legend()"
   ]
  },
  {
   "cell_type": "markdown",
   "metadata": {},
   "source": [
    "Since the dataset is large, and training takes an inordinate amount of time, we need to try other methods.\n",
    "\n",
    "## Mini-Batch Gradient Descent"
   ]
  },
  {
   "cell_type": "code",
   "execution_count": 162,
   "metadata": {
    "collapsed": false
   },
   "outputs": [
    {
     "name": "stdout",
     "output_type": "stream",
     "text": [
      "(784L, 50L)\n",
      "(10L, 50L)\n"
     ]
    }
   ],
   "source": [
    "def getbatch(training_set, training_set_l, batch_size=50):\n",
    "    l, b = training_set.shape\n",
    "    selection = np.random.randint(0,b, size=batch_size)\n",
    "    return (training_set[:,np.array(selection)], training_set_l[:,np.array(selection)])\n",
    "a, b = getbatch(training_data, training_data_l, 50)\n",
    "print a.shape\n",
    "print b.shape"
   ]
  },
  {
   "cell_type": "code",
   "execution_count": 163,
   "metadata": {
    "collapsed": false
   },
   "outputs": [
    {
     "name": "stdout",
     "output_type": "stream",
     "text": [
      "784\n"
     ]
    },
    {
     "data": {
      "text/plain": [
       "(784L, 60000L)"
      ]
     },
     "execution_count": 163,
     "metadata": {},
     "output_type": "execute_result"
    }
   ],
   "source": [
    "print len(training_data[:, :])\n",
    "training_data.shape"
   ]
  },
  {
   "cell_type": "code",
   "execution_count": 164,
   "metadata": {
    "collapsed": false
   },
   "outputs": [
    {
     "name": "stdout",
     "output_type": "stream",
     "text": [
      "0.0\n",
      "(784L, 60000L)\n",
      "(10L, 60000L)\n"
     ]
    }
   ],
   "source": [
    "## Check shapes\n",
    "print training_data[1,2]\n",
    "print training_data.shape\n",
    "print training_data_l.shape"
   ]
  },
  {
   "cell_type": "markdown",
   "metadata": {},
   "source": [
    "Now, we can start training. Let's try a batch size of 50 over 1000 tries."
   ]
  },
  {
   "cell_type": "code",
   "execution_count": 257,
   "metadata": {
    "collapsed": false
   },
   "outputs": [],
   "source": [
    "np.random.seed(1)\n",
    "mnist_pp3 = perceptron(len(training_images[0]), 10, 10, 4, 10)\n",
    "# mnist_pp3.delta_func = cross_delta"
   ]
  },
  {
   "cell_type": "code",
   "execution_count": 264,
   "metadata": {
    "collapsed": false
   },
   "outputs": [
    {
     "name": "stderr",
     "output_type": "stream",
     "text": [
      "  0%|                                                                                            | 0/1 [00:00<?, ?it/s]C:\\Users\\hrish\\AppData\\Local\\Enthought\\Canopy\\User\\lib\\site-packages\\ipykernel\\__main__.py:30: RuntimeWarning: invalid value encountered in double_scalars\n",
      "100%|███████████████████████████████████████████████████████████████████████████████████| 1/1 [00:00<00:00, 499.98it/s]"
     ]
    },
    {
     "name": "stdout",
     "output_type": "stream",
     "text": [
      "Wall time: 40 ms\n"
     ]
    },
    {
     "name": "stderr",
     "output_type": "stream",
     "text": [
      "\n"
     ]
    },
    {
     "data": {
      "image/png": "[encoded data removed]",
      "text/plain": [
       "<matplotlib.figure.Figure at 0x78b5fd0>"
      ]
     },
     "metadata": {},
     "output_type": "display_data"
    }
   ],
   "source": [
    "%%time\n",
    "res = [(mnist_pp3.train(*(getbatch(training_data, training_data_l, 1)))) for i in tqdm(xrange(0, 1))]\n",
    "plot(res, \"green\",label = \"Cost\")\n",
    "legend()"
   ]
  },
  {
   "cell_type": "code",
   "execution_count": 253,
   "metadata": {
    "collapsed": false
   },
   "outputs": [],
   "source": [
    "t, tl = getbatch(training_data, training_data_l, 3)"
   ]
  },
  {
   "cell_type": "code",
   "execution_count": 260,
   "metadata": {
    "collapsed": false
   },
   "outputs": [
    {
     "data": {
      "text/plain": [
       "[0.67871356978686581,\n",
       " 0.25667445874395528,\n",
       " 0.10414331615370873,\n",
       " nan,\n",
       " nan,\n",
       " nan,\n",
       " nan,\n",
       " nan,\n",
       " nan,\n",
       " nan,\n",
       " nan,\n",
       " nan,\n",
       " nan,\n",
       " nan,\n",
       " nan,\n",
       " nan,\n",
       " nan,\n",
       " nan,\n",
       " nan,\n",
       " nan,\n",
       " nan,\n",
       " nan,\n",
       " nan,\n",
       " nan,\n",
       " nan,\n",
       " nan,\n",
       " nan,\n",
       " nan,\n",
       " nan,\n",
       " nan,\n",
       " nan,\n",
       " nan,\n",
       " nan,\n",
       " nan,\n",
       " nan,\n",
       " nan,\n",
       " nan,\n",
       " nan,\n",
       " nan,\n",
       " nan,\n",
       " nan,\n",
       " nan,\n",
       " nan,\n",
       " nan,\n",
       " nan,\n",
       " nan,\n",
       " nan,\n",
       " nan,\n",
       " nan,\n",
       " nan,\n",
       " nan,\n",
       " nan,\n",
       " nan,\n",
       " nan,\n",
       " nan,\n",
       " nan,\n",
       " nan,\n",
       " nan,\n",
       " nan,\n",
       " nan,\n",
       " nan,\n",
       " nan,\n",
       " nan,\n",
       " nan,\n",
       " nan,\n",
       " nan,\n",
       " nan,\n",
       " nan,\n",
       " nan,\n",
       " nan,\n",
       " nan,\n",
       " nan,\n",
       " nan,\n",
       " nan,\n",
       " nan,\n",
       " nan,\n",
       " nan,\n",
       " nan,\n",
       " nan,\n",
       " nan,\n",
       " nan,\n",
       " nan,\n",
       " nan,\n",
       " nan,\n",
       " nan,\n",
       " nan,\n",
       " nan,\n",
       " nan,\n",
       " nan,\n",
       " nan,\n",
       " nan,\n",
       " nan,\n",
       " nan,\n",
       " nan,\n",
       " nan,\n",
       " nan,\n",
       " nan,\n",
       " nan,\n",
       " nan,\n",
       " nan,\n",
       " nan,\n",
       " nan,\n",
       " nan,\n",
       " nan,\n",
       " nan,\n",
       " nan,\n",
       " nan,\n",
       " nan,\n",
       " nan,\n",
       " nan,\n",
       " nan,\n",
       " nan,\n",
       " nan,\n",
       " nan,\n",
       " nan,\n",
       " nan,\n",
       " nan,\n",
       " nan,\n",
       " nan,\n",
       " nan,\n",
       " nan,\n",
       " nan,\n",
       " nan,\n",
       " nan,\n",
       " nan,\n",
       " nan,\n",
       " nan,\n",
       " nan,\n",
       " nan,\n",
       " nan,\n",
       " nan,\n",
       " nan,\n",
       " nan,\n",
       " nan,\n",
       " nan,\n",
       " nan,\n",
       " nan,\n",
       " nan,\n",
       " nan,\n",
       " nan,\n",
       " nan,\n",
       " nan,\n",
       " nan,\n",
       " nan,\n",
       " nan,\n",
       " nan,\n",
       " nan,\n",
       " nan,\n",
       " nan,\n",
       " nan,\n",
       " nan,\n",
       " nan,\n",
       " nan,\n",
       " nan,\n",
       " nan,\n",
       " nan,\n",
       " nan,\n",
       " nan,\n",
       " nan,\n",
       " nan,\n",
       " nan,\n",
       " nan,\n",
       " nan,\n",
       " nan,\n",
       " nan,\n",
       " nan,\n",
       " nan,\n",
       " nan,\n",
       " nan,\n",
       " nan,\n",
       " nan,\n",
       " nan,\n",
       " nan,\n",
       " nan,\n",
       " nan,\n",
       " nan,\n",
       " nan,\n",
       " nan,\n",
       " nan,\n",
       " nan,\n",
       " nan,\n",
       " nan,\n",
       " nan,\n",
       " nan,\n",
       " nan,\n",
       " nan,\n",
       " nan,\n",
       " nan,\n",
       " nan,\n",
       " nan,\n",
       " nan,\n",
       " nan,\n",
       " nan,\n",
       " nan,\n",
       " nan,\n",
       " nan,\n",
       " nan,\n",
       " nan,\n",
       " nan,\n",
       " nan,\n",
       " nan,\n",
       " nan,\n",
       " nan,\n",
       " nan,\n",
       " nan,\n",
       " nan,\n",
       " nan,\n",
       " nan,\n",
       " nan,\n",
       " nan,\n",
       " nan,\n",
       " nan,\n",
       " nan,\n",
       " nan,\n",
       " nan,\n",
       " nan,\n",
       " nan,\n",
       " nan,\n",
       " nan,\n",
       " nan,\n",
       " nan,\n",
       " nan,\n",
       " nan,\n",
       " nan,\n",
       " nan,\n",
       " nan,\n",
       " nan,\n",
       " nan,\n",
       " nan,\n",
       " nan,\n",
       " nan,\n",
       " nan,\n",
       " nan,\n",
       " nan,\n",
       " nan,\n",
       " nan,\n",
       " nan,\n",
       " nan,\n",
       " nan,\n",
       " nan,\n",
       " nan,\n",
       " nan,\n",
       " nan,\n",
       " nan,\n",
       " nan,\n",
       " nan,\n",
       " nan,\n",
       " nan,\n",
       " nan,\n",
       " nan,\n",
       " nan,\n",
       " nan,\n",
       " nan,\n",
       " nan,\n",
       " nan,\n",
       " nan,\n",
       " nan,\n",
       " nan,\n",
       " nan,\n",
       " nan,\n",
       " nan,\n",
       " nan,\n",
       " nan,\n",
       " nan,\n",
       " nan,\n",
       " nan,\n",
       " nan,\n",
       " nan,\n",
       " nan,\n",
       " nan,\n",
       " nan,\n",
       " nan,\n",
       " nan,\n",
       " nan,\n",
       " nan,\n",
       " nan,\n",
       " nan,\n",
       " nan,\n",
       " nan,\n",
       " nan,\n",
       " nan,\n",
       " nan,\n",
       " nan,\n",
       " nan,\n",
       " nan,\n",
       " nan,\n",
       " nan,\n",
       " nan,\n",
       " nan,\n",
       " nan,\n",
       " nan,\n",
       " nan,\n",
       " nan,\n",
       " nan,\n",
       " nan,\n",
       " nan,\n",
       " nan,\n",
       " nan,\n",
       " nan,\n",
       " nan,\n",
       " nan,\n",
       " nan,\n",
       " nan,\n",
       " nan,\n",
       " nan,\n",
       " nan,\n",
       " nan,\n",
       " nan,\n",
       " nan,\n",
       " nan,\n",
       " nan,\n",
       " nan,\n",
       " nan,\n",
       " nan,\n",
       " nan,\n",
       " nan,\n",
       " nan,\n",
       " nan,\n",
       " nan,\n",
       " nan,\n",
       " nan,\n",
       " nan,\n",
       " nan,\n",
       " nan,\n",
       " nan,\n",
       " nan,\n",
       " nan,\n",
       " nan,\n",
       " nan,\n",
       " nan,\n",
       " nan,\n",
       " nan,\n",
       " nan,\n",
       " nan,\n",
       " nan,\n",
       " nan,\n",
       " nan,\n",
       " nan,\n",
       " nan,\n",
       " nan,\n",
       " nan,\n",
       " nan,\n",
       " nan,\n",
       " nan,\n",
       " nan,\n",
       " nan,\n",
       " nan,\n",
       " nan,\n",
       " nan,\n",
       " nan,\n",
       " nan,\n",
       " nan,\n",
       " nan,\n",
       " nan,\n",
       " nan,\n",
       " nan,\n",
       " nan,\n",
       " nan,\n",
       " nan,\n",
       " nan,\n",
       " nan,\n",
       " nan,\n",
       " nan,\n",
       " nan,\n",
       " nan,\n",
       " nan,\n",
       " nan,\n",
       " nan,\n",
       " nan,\n",
       " nan,\n",
       " nan,\n",
       " nan,\n",
       " nan,\n",
       " nan,\n",
       " nan,\n",
       " nan,\n",
       " nan,\n",
       " nan,\n",
       " nan,\n",
       " nan,\n",
       " nan,\n",
       " nan,\n",
       " nan,\n",
       " nan,\n",
       " nan,\n",
       " nan,\n",
       " nan,\n",
       " nan,\n",
       " nan,\n",
       " nan,\n",
       " nan,\n",
       " nan,\n",
       " nan,\n",
       " nan,\n",
       " nan,\n",
       " nan,\n",
       " nan,\n",
       " nan,\n",
       " nan,\n",
       " nan,\n",
       " nan,\n",
       " nan,\n",
       " nan,\n",
       " nan,\n",
       " nan,\n",
       " nan,\n",
       " nan,\n",
       " nan,\n",
       " nan,\n",
       " nan,\n",
       " nan,\n",
       " nan,\n",
       " nan,\n",
       " nan,\n",
       " nan,\n",
       " nan,\n",
       " nan,\n",
       " nan,\n",
       " nan,\n",
       " nan,\n",
       " nan,\n",
       " nan,\n",
       " nan,\n",
       " nan,\n",
       " nan,\n",
       " nan,\n",
       " nan,\n",
       " nan,\n",
       " nan,\n",
       " nan,\n",
       " nan,\n",
       " nan,\n",
       " nan,\n",
       " nan,\n",
       " nan,\n",
       " nan,\n",
       " nan,\n",
       " nan,\n",
       " nan,\n",
       " nan,\n",
       " nan,\n",
       " nan,\n",
       " nan,\n",
       " nan,\n",
       " nan,\n",
       " nan,\n",
       " nan,\n",
       " nan,\n",
       " nan,\n",
       " nan,\n",
       " nan,\n",
       " nan,\n",
       " nan,\n",
       " nan,\n",
       " nan,\n",
       " nan,\n",
       " nan,\n",
       " nan,\n",
       " nan,\n",
       " nan,\n",
       " nan,\n",
       " nan,\n",
       " nan,\n",
       " nan,\n",
       " nan,\n",
       " nan,\n",
       " nan,\n",
       " nan,\n",
       " nan,\n",
       " nan,\n",
       " nan,\n",
       " nan,\n",
       " nan,\n",
       " nan,\n",
       " nan,\n",
       " nan,\n",
       " nan,\n",
       " nan,\n",
       " nan,\n",
       " nan,\n",
       " nan,\n",
       " nan,\n",
       " nan,\n",
       " nan,\n",
       " nan,\n",
       " nan,\n",
       " nan,\n",
       " nan,\n",
       " nan,\n",
       " nan,\n",
       " nan,\n",
       " nan,\n",
       " nan,\n",
       " nan,\n",
       " nan,\n",
       " nan,\n",
       " nan,\n",
       " nan,\n",
       " nan,\n",
       " nan,\n",
       " nan,\n",
       " nan,\n",
       " nan,\n",
       " nan,\n",
       " nan,\n",
       " nan,\n",
       " nan,\n",
       " nan,\n",
       " nan,\n",
       " nan,\n",
       " nan,\n",
       " nan,\n",
       " nan,\n",
       " nan,\n",
       " nan,\n",
       " nan,\n",
       " nan,\n",
       " nan,\n",
       " nan,\n",
       " nan,\n",
       " nan,\n",
       " nan,\n",
       " nan,\n",
       " nan,\n",
       " nan,\n",
       " nan,\n",
       " nan,\n",
       " nan,\n",
       " nan,\n",
       " nan,\n",
       " nan,\n",
       " nan,\n",
       " nan,\n",
       " nan,\n",
       " nan,\n",
       " nan,\n",
       " nan,\n",
       " nan,\n",
       " nan,\n",
       " nan,\n",
       " nan,\n",
       " nan,\n",
       " nan,\n",
       " nan,\n",
       " nan,\n",
       " nan,\n",
       " nan,\n",
       " nan,\n",
       " nan,\n",
       " nan,\n",
       " nan,\n",
       " nan,\n",
       " nan,\n",
       " nan,\n",
       " nan,\n",
       " nan,\n",
       " nan,\n",
       " nan,\n",
       " nan,\n",
       " nan,\n",
       " nan,\n",
       " nan,\n",
       " nan,\n",
       " nan,\n",
       " nan,\n",
       " nan,\n",
       " nan,\n",
       " nan,\n",
       " nan,\n",
       " nan,\n",
       " nan,\n",
       " nan,\n",
       " nan,\n",
       " nan,\n",
       " nan,\n",
       " nan,\n",
       " nan,\n",
       " nan,\n",
       " nan,\n",
       " nan,\n",
       " nan,\n",
       " nan,\n",
       " nan,\n",
       " nan,\n",
       " nan,\n",
       " nan,\n",
       " nan,\n",
       " nan,\n",
       " nan,\n",
       " nan,\n",
       " nan,\n",
       " nan,\n",
       " nan,\n",
       " nan,\n",
       " nan,\n",
       " nan,\n",
       " nan,\n",
       " nan,\n",
       " nan,\n",
       " nan,\n",
       " nan,\n",
       " nan,\n",
       " nan,\n",
       " nan,\n",
       " nan,\n",
       " nan,\n",
       " nan,\n",
       " nan,\n",
       " nan,\n",
       " nan,\n",
       " nan,\n",
       " nan,\n",
       " nan,\n",
       " nan,\n",
       " nan,\n",
       " nan,\n",
       " nan,\n",
       " nan,\n",
       " nan,\n",
       " nan,\n",
       " nan,\n",
       " nan,\n",
       " nan,\n",
       " nan,\n",
       " nan,\n",
       " nan,\n",
       " nan,\n",
       " nan,\n",
       " nan,\n",
       " nan,\n",
       " nan,\n",
       " nan,\n",
       " nan,\n",
       " nan,\n",
       " nan,\n",
       " nan,\n",
       " nan,\n",
       " nan,\n",
       " nan,\n",
       " nan,\n",
       " nan,\n",
       " nan,\n",
       " nan,\n",
       " nan,\n",
       " nan,\n",
       " nan,\n",
       " nan,\n",
       " nan,\n",
       " nan,\n",
       " nan,\n",
       " nan,\n",
       " nan,\n",
       " nan,\n",
       " nan,\n",
       " nan,\n",
       " nan,\n",
       " nan,\n",
       " nan,\n",
       " nan,\n",
       " nan,\n",
       " nan,\n",
       " nan,\n",
       " nan,\n",
       " nan,\n",
       " nan,\n",
       " nan,\n",
       " nan,\n",
       " nan,\n",
       " nan,\n",
       " nan,\n",
       " nan,\n",
       " nan,\n",
       " nan,\n",
       " nan,\n",
       " nan,\n",
       " nan,\n",
       " nan,\n",
       " nan,\n",
       " nan,\n",
       " nan,\n",
       " nan,\n",
       " nan,\n",
       " nan,\n",
       " nan,\n",
       " nan,\n",
       " nan,\n",
       " nan,\n",
       " nan,\n",
       " nan,\n",
       " nan,\n",
       " nan,\n",
       " nan,\n",
       " nan,\n",
       " nan,\n",
       " nan,\n",
       " nan,\n",
       " nan,\n",
       " nan,\n",
       " nan,\n",
       " nan,\n",
       " nan,\n",
       " nan,\n",
       " nan,\n",
       " nan,\n",
       " nan,\n",
       " nan,\n",
       " nan,\n",
       " nan,\n",
       " nan,\n",
       " nan,\n",
       " nan,\n",
       " nan,\n",
       " nan,\n",
       " nan,\n",
       " nan,\n",
       " nan,\n",
       " nan,\n",
       " nan,\n",
       " nan,\n",
       " nan,\n",
       " nan,\n",
       " nan,\n",
       " nan,\n",
       " nan,\n",
       " nan,\n",
       " nan,\n",
       " nan,\n",
       " nan,\n",
       " nan,\n",
       " nan,\n",
       " nan,\n",
       " nan,\n",
       " nan,\n",
       " nan,\n",
       " nan,\n",
       " nan,\n",
       " nan,\n",
       " nan,\n",
       " nan,\n",
       " nan,\n",
       " nan,\n",
       " nan,\n",
       " nan,\n",
       " nan,\n",
       " nan,\n",
       " nan,\n",
       " nan,\n",
       " nan,\n",
       " nan,\n",
       " nan,\n",
       " nan,\n",
       " nan,\n",
       " nan,\n",
       " nan,\n",
       " nan,\n",
       " nan,\n",
       " nan,\n",
       " nan,\n",
       " nan,\n",
       " nan,\n",
       " nan,\n",
       " nan,\n",
       " nan,\n",
       " nan,\n",
       " nan,\n",
       " nan,\n",
       " nan,\n",
       " nan,\n",
       " nan,\n",
       " nan,\n",
       " nan,\n",
       " nan,\n",
       " nan,\n",
       " nan,\n",
       " nan,\n",
       " nan,\n",
       " nan,\n",
       " nan,\n",
       " nan,\n",
       " nan,\n",
       " nan,\n",
       " nan,\n",
       " nan,\n",
       " nan,\n",
       " nan,\n",
       " nan,\n",
       " nan,\n",
       " nan,\n",
       " nan,\n",
       " nan,\n",
       " nan,\n",
       " nan,\n",
       " nan,\n",
       " nan,\n",
       " nan,\n",
       " nan,\n",
       " nan,\n",
       " nan,\n",
       " nan,\n",
       " nan,\n",
       " nan,\n",
       " nan,\n",
       " nan,\n",
       " nan,\n",
       " nan,\n",
       " nan,\n",
       " nan,\n",
       " nan,\n",
       " nan,\n",
       " nan,\n",
       " nan,\n",
       " nan,\n",
       " nan,\n",
       " nan,\n",
       " nan,\n",
       " nan,\n",
       " nan,\n",
       " nan,\n",
       " nan,\n",
       " nan,\n",
       " nan,\n",
       " nan,\n",
       " nan,\n",
       " nan,\n",
       " nan,\n",
       " nan,\n",
       " nan,\n",
       " nan,\n",
       " nan,\n",
       " nan,\n",
       " nan,\n",
       " nan,\n",
       " nan,\n",
       " nan,\n",
       " nan,\n",
       " nan,\n",
       " nan,\n",
       " nan,\n",
       " nan,\n",
       " nan,\n",
       " nan,\n",
       " nan,\n",
       " nan,\n",
       " nan,\n",
       " nan,\n",
       " nan,\n",
       " nan,\n",
       " nan,\n",
       " nan,\n",
       " nan,\n",
       " nan,\n",
       " nan,\n",
       " nan,\n",
       " nan,\n",
       " nan,\n",
       " nan,\n",
       " nan,\n",
       " nan,\n",
       " nan,\n",
       " nan,\n",
       " nan,\n",
       " nan,\n",
       " nan,\n",
       " nan,\n",
       " nan,\n",
       " nan,\n",
       " nan,\n",
       " nan,\n",
       " nan,\n",
       " nan,\n",
       " nan,\n",
       " nan,\n",
       " nan,\n",
       " nan,\n",
       " nan,\n",
       " nan,\n",
       " nan,\n",
       " nan,\n",
       " nan,\n",
       " nan,\n",
       " nan,\n",
       " nan,\n",
       " nan,\n",
       " nan,\n",
       " nan,\n",
       " nan,\n",
       " nan,\n",
       " nan,\n",
       " nan,\n",
       " nan,\n",
       " nan,\n",
       " nan,\n",
       " nan,\n",
       " nan,\n",
       " nan,\n",
       " nan,\n",
       " nan,\n",
       " nan,\n",
       " nan,\n",
       " nan,\n",
       " nan,\n",
       " nan,\n",
       " nan,\n",
       " nan,\n",
       " nan,\n",
       " nan,\n",
       " nan,\n",
       " nan,\n",
       " nan,\n",
       " nan,\n",
       " nan,\n",
       " nan,\n",
       " nan,\n",
       " nan,\n",
       " nan,\n",
       " nan,\n",
       " nan,\n",
       " nan,\n",
       " nan,\n",
       " nan,\n",
       " nan,\n",
       " nan,\n",
       " nan,\n",
       " nan,\n",
       " nan,\n",
       " nan,\n",
       " nan,\n",
       " nan,\n",
       " nan,\n",
       " nan,\n",
       " nan,\n",
       " nan,\n",
       " nan,\n",
       " nan,\n",
       " nan,\n",
       " nan,\n",
       " nan,\n",
       " nan,\n",
       " nan,\n",
       " nan,\n",
       " nan,\n",
       " nan,\n",
       " nan,\n",
       " nan,\n",
       " nan,\n",
       " nan,\n",
       " nan,\n",
       " nan,\n",
       " nan,\n",
       " nan,\n",
       " nan,\n",
       " nan,\n",
       " nan,\n",
       " nan,\n",
       " nan,\n",
       " nan,\n",
       " nan,\n",
       " nan,\n",
       " nan,\n",
       " nan,\n",
       " nan,\n",
       " nan,\n",
       " nan,\n",
       " nan,\n",
       " nan,\n",
       " nan,\n",
       " nan,\n",
       " nan,\n",
       " nan,\n",
       " nan,\n",
       " nan,\n",
       " nan,\n",
       " nan,\n",
       " nan,\n",
       " nan,\n",
       " nan,\n",
       " nan,\n",
       " nan,\n",
       " nan,\n",
       " nan,\n",
       " nan,\n",
       " nan,\n",
       " nan,\n",
       " nan,\n",
       " nan,\n",
       " nan,\n",
       " nan,\n",
       " nan,\n",
       " nan,\n",
       " nan,\n",
       " nan,\n",
       " nan,\n",
       " nan,\n",
       " nan,\n",
       " nan,\n",
       " nan,\n",
       " nan,\n",
       " nan,\n",
       " nan,\n",
       " nan]"
      ]
     },
     "execution_count": 260,
     "metadata": {},
     "output_type": "execute_result"
    }
   ],
   "source": [
    "res"
   ]
  },
  {
   "cell_type": "code",
   "execution_count": null,
   "metadata": {
    "collapsed": true
   },
   "outputs": [],
   "source": []
  },
  {
   "cell_type": "code",
   "execution_count": null,
   "metadata": {
    "collapsed": true
   },
   "outputs": [],
   "source": []
  },
  {
   "cell_type": "code",
   "execution_count": 254,
   "metadata": {
    "collapsed": false
   },
   "outputs": [
    {
     "name": "stdout",
     "output_type": "stream",
     "text": [
      "input = [[ 0.  0.  0.]\n",
      " [ 0.  0.  0.]\n",
      " [ 0.  0.  0.]\n",
      " ..., \n",
      " [ 0.  0.  0.]\n",
      " [ 0.  0.  0.]\n",
      " [ 0.  0.  0.]]\n"
     ]
    },
    {
     "data": {
      "text/plain": [
       "matrix([[ nan,  nan,  nan],\n",
       "        [ nan,  nan,  nan],\n",
       "        [ nan,  nan,  nan],\n",
       "        [ nan,  nan,  nan],\n",
       "        [ nan,  nan,  nan],\n",
       "        [ nan,  nan,  nan],\n",
       "        [ nan,  nan,  nan],\n",
       "        [ nan,  nan,  nan],\n",
       "        [ nan,  nan,  nan],\n",
       "        [ nan,  nan,  nan]])"
      ]
     },
     "execution_count": 254,
     "metadata": {},
     "output_type": "execute_result"
    }
   ],
   "source": [
    "mnist_pp3.feed_forward(training_data[:,1:4])"
   ]
  },
  {
   "cell_type": "code",
   "execution_count": 249,
   "metadata": {
    "collapsed": false
   },
   "outputs": [
    {
     "name": "stdout",
     "output_type": "stream",
     "text": [
      "Dividing by 784 neurons\n",
      "Dividing by 10 neurons\n",
      "Dividing by 10 neurons\n",
      "Dividing by 10 neurons\n",
      "Dividing by 10 neurons\n",
      "a[0]: [[ 0.32316022  0.338594    0.33348225]\n",
      " [ 0.27188617  0.28907415  0.28580044]\n",
      " [ 0.52441801  0.53393797  0.5304523 ]\n",
      " [ 0.22596119  0.23928328  0.23686373]\n",
      " [ 0.4344431   0.4485956   0.44579932]\n",
      " [ 0.10528021  0.11585239  0.11407259]\n",
      " [ 0.34125604  0.35742485  0.35429641]\n",
      " [ 0.3045872   0.31500539  0.31103056]\n",
      " [ 0.16416333  0.1760405   0.17316591]\n",
      " [ 0.18213741  0.19356041  0.19131405]]\n",
      "a[1]: [[ 0.12833022  0.12783261  0.12797537]\n",
      " [ 0.27555196  0.27439401  0.27470415]\n",
      " [ 0.16855674  0.16775356  0.16793113]\n",
      " [ 0.153762    0.15296163  0.15316397]\n",
      " [ 0.15389297  0.15263569  0.1529381 ]\n",
      " [ 0.20207071  0.2012792   0.20146544]\n",
      " [ 0.11551598  0.11468809  0.11489005]\n",
      " [ 0.18482193  0.18390908  0.18412064]\n",
      " [ 0.19473969  0.19407884  0.19426173]\n",
      " [ 0.2647457   0.26344189  0.26377597]]\n",
      "a[2]: [[ 0.69943092  0.69941225  0.69941714]\n",
      " [ 0.94112174  0.94108901  0.94109722]\n",
      " [ 0.84732853  0.84729871  0.84730644]\n",
      " [ 0.60697187  0.60696507  0.6069671 ]\n",
      " [ 0.87960335  0.87958072  0.8795863 ]\n",
      " [ 0.65479673  0.65481405  0.6548099 ]\n",
      " [ 0.44460416  0.44469342  0.44467073]\n",
      " [ 0.79388339  0.79389084  0.79388914]\n",
      " [ 0.41552824  0.41563805  0.41561038]\n",
      " [ 0.92406761  0.924034    0.92404232]]\n",
      "a[3]: [[ 0.03000681  0.03000686  0.03000685]\n",
      " [ 0.02907486  0.02907496  0.02907493]\n",
      " [ 0.0286179   0.02861787  0.02861787]\n",
      " [ 0.02891617  0.02891627  0.02891624]\n",
      " [ 0.03154338  0.0315436   0.03154354]\n",
      " [ 0.02914206  0.02914227  0.02914221]\n",
      " [ 0.03084044  0.03084082  0.03084072]\n",
      " [ 0.03006713  0.03006747  0.03006738]\n",
      " [ 0.03011674  0.03011685  0.03011682]\n",
      " [ 0.02788249  0.02788259  0.02788256]]\n",
      "a[4]: [[ 0.09217606  0.09217605  0.09217605]\n",
      " [ 0.08453185  0.08453183  0.08453184]\n",
      " [ 0.04700215  0.04700215  0.04700215]\n",
      " [ 0.09736734  0.09736733  0.09736733]\n",
      " [ 0.04297931  0.04297931  0.04297931]\n",
      " [ 0.05324621  0.05324621  0.05324621]\n",
      " [ 0.03985617  0.03985617  0.03985617]\n",
      " [ 0.12095635  0.12095633  0.12095633]\n",
      " [ 0.04916782  0.04916782  0.04916782]\n",
      " [ 0.0953319   0.09533189  0.09533189]]\n",
      "z[0]: [[-0.73928633 -0.66956612 -0.69247714]\n",
      " [-0.98507392 -0.89988492 -0.91586861]\n",
      " [ 0.0977498   0.13596093  0.12196015]\n",
      " [-1.23125873 -1.15661294 -1.1699516 ]\n",
      " [-0.26374591 -0.20634666 -0.21765796]\n",
      " [-2.13988511 -2.03230716 -2.04980006]\n",
      " [-0.65770187 -0.58655863 -0.60020668]\n",
      " [-0.8255482  -0.77682123 -0.79530574]\n",
      " [-1.62757137 -1.54340729 -1.56335391]\n",
      " [-1.50193294 -1.42703934 -1.44149435]]\n",
      "z[1]: [[-1.91580386 -1.92025972 -1.91897984]\n",
      " [-0.96663383 -0.97244208 -0.97088492]\n",
      " [-1.59589065 -1.60163263 -1.60036123]\n",
      " [-1.70539469 -1.71155892 -1.70999805]\n",
      " [-1.70438851 -1.71407672 -1.71174051]\n",
      " [-1.37340227 -1.37831846 -1.3771604 ]\n",
      " [-2.03559556 -2.04372387 -2.04173629]\n",
      " [-1.48401379 -1.49008428 -1.48867533]\n",
      " [-1.41950186 -1.42372142 -1.42255257]\n",
      " [-1.02144666 -1.02815534 -1.02643432]]\n",
      "z[2]: [[ 0.84458941  0.84450062  0.84452386]\n",
      " [ 2.77160064  2.77101008  2.7711582 ]\n",
      " [ 1.71380012  1.71356963  1.71362937]\n",
      " [ 0.43460127  0.43457275  0.43458127]\n",
      " [ 1.98867935  1.98846571  1.98851835]\n",
      " [ 0.64019141  0.64026805  0.64024968]\n",
      " [-0.22249673 -0.22213528 -0.22222713]\n",
      " [ 1.34849452  1.34854006  1.34852964]\n",
      " [-0.34115787 -0.34070575 -0.34081967]\n",
      " [ 2.49894197  2.49846302  2.49858151]]\n",
      "z[3]: [[-3.47586483 -3.47586289 -3.47586344]\n",
      " [-3.50837547 -3.50837204 -3.50837295]\n",
      " [-3.52468748 -3.52468872 -3.52468849]\n",
      " [-3.51401182 -3.51400825 -3.5140092 ]\n",
      " [-3.42434006 -3.42433276 -3.42433463]\n",
      " [-3.5059978  -3.50599028 -3.50599222]\n",
      " [-3.44760238 -3.44758978 -3.447593  ]\n",
      " [-3.47379446 -3.47378262 -3.47378567]\n",
      " [-3.47209462 -3.47209069 -3.47209173]\n",
      " [-3.55147784 -3.55147425 -3.55147518]]\n",
      "z[4]: [[-2.28735005 -2.28735019 -2.28735015]\n",
      " [-2.38230722 -2.38230738 -2.38230734]\n",
      " [-3.00941925 -3.0094194  -3.00941936]\n",
      " [-2.22682486 -2.22682498 -2.22682495]\n",
      " [-3.10310616 -3.10310627 -3.10310624]\n",
      " [-2.87811249 -2.87811253 -2.87811252]\n",
      " [-3.18180576 -3.18180592 -3.18180588]\n",
      " [-1.98340485 -1.983405   -1.98340496]\n",
      " [-2.96209816 -2.96209833 -2.96209829]\n",
      " [-2.25020365 -2.25020374 -2.25020372]]\n"
     ]
    }
   ],
   "source": [
    "a, z, output = mnist_pp3.push_forward(training_data[:,1:4])\n",
    "for i in xrange(0, len(a)): print \"a[%d]: %s\" % (i, a[i])\n",
    "for i in xrange(0, len(z)): print \"z[%d]: %s\" % (i, z[i])"
   ]
  },
  {
   "cell_type": "code",
   "execution_count": null,
   "metadata": {
    "collapsed": true
   },
   "outputs": [],
   "source": []
  }
 ],
 "metadata": {
  "kernelspec": {
   "display_name": "Python 2",
   "language": "python",
   "name": "python2"
  },
  "language_info": {
   "codemirror_mode": {
    "name": "ipython",
    "version": 2
   },
   "file_extension": ".py",
   "mimetype": "text/x-python",
   "name": "python",
   "nbconvert_exporter": "python",
   "pygments_lexer": "ipython2",
   "version": "2.7.10"
  }
 },
 "nbformat": 4,
 "nbformat_minor": 0
}
