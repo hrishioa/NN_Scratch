{
 "cells": [
  {
   "cell_type": "markdown",
   "metadata": {},
   "source": [
    "## Imports"
   ]
  },
  {
   "cell_type": "code",
   "execution_count": 159,
   "metadata": {
    "collapsed": false
   },
   "outputs": [
    {
     "name": "stdout",
     "output_type": "stream",
     "text": [
      "Populating the interactive namespace from numpy and matplotlib\n"
     ]
    }
   ],
   "source": [
    "%pylab inline\n",
    "import numpy as np\n",
    "from tqdm import *"
   ]
  },
  {
   "cell_type": "markdown",
   "metadata": {},
   "source": [
    "Initialization\n",
    "-------------\n",
    "\n",
    "Set up Hyperparameters\n",
    "* InputSize\n",
    "* OutputSize\n",
    "* HiddenLayerWidth\n",
    "* HiddenLayerHeight"
   ]
  },
  {
   "cell_type": "code",
   "execution_count": 8,
   "metadata": {
    "collapsed": false
   },
   "outputs": [],
   "source": [
    "class perceptron(object):\n",
    "    def __init__(self, input_size, output_size, hl_neurons, hl_layers, learningrate):\n",
    "        self.learningrate = learningrate\n",
    "        self.input_size = input_size\n",
    "        self.output_size = output_size\n",
    "        self.hl_neurons = hl_neurons\n",
    "        self.hl_layers = hl_layers\n",
    "        \n",
    "        # Now setup the weights in this format (inputs x neurons)\n",
    "        self.weights = []\n",
    "        self.ths = []\n",
    "        self.weights.append(np.random.rand(hl_neurons, input_size))\n",
    "        self.ths.append(np.random.rand(hl_neurons, 1))\n",
    "        for i in xrange(1, hl_layers):\n",
    "            self.weights.append(np.random.rand(hl_neurons, hl_neurons))\n",
    "            self.ths.append(np.random.rand(hl_neurons, 1))\n",
    "        self.weights.append(np.random.rand(output_size, hl_neurons))\n",
    "        self.ths.append(np.random.rand(output_size, 1))\n",
    "        self.delta_func = self.delta_func1\n",
    "        self.sigmoid = numpy.vectorize(self.sigmoid)\n",
    "        self.sigmoid_delta = numpy.vectorize(self.sigmoid_delta)\n",
    "        \n",
    "    def delta_func1(self, output, truths):\n",
    "        return (output-truths)\n",
    "    \n",
    "    def sigmoid(self, z):\n",
    "        return 1/(1+np.exp(-z))\n",
    "    \n",
    "    def sigmoid_delta(self, z):\n",
    "        return (np.exp(-z))/((1+np.exp(-z))**2)\n",
    "    \n",
    "    def push_forward(self, inputs):\n",
    "        A = []\n",
    "        Z = []\n",
    "        output = inputs\n",
    "        for i in xrange(0, len(self.weights)):\n",
    "            output = np.dot(self.weights[i], output) + self.ths[i]\n",
    "            Z.append(output)\n",
    "            output = self.sigmoid(output)\n",
    "            A.append(output)\n",
    "        return A, Z, output\n",
    "    \n",
    "    def feed_forward(self, inputs):\n",
    "        _, _, output = self.push_forward(inputs)\n",
    "        return output\n",
    "    \n",
    "    def multiply_and_average(self, delta, A):\n",
    "        At = np.transpose(A)\n",
    "        # Multiply the two, see if they're compatible (faster than throwing an exception)\n",
    "        _ = np.dot(delta,At)\n",
    "        ws = []\n",
    "        for i in xrange(0, len(delta[0])):\n",
    "            di = delta[:,[i]]\n",
    "            Ai = At[[i],:]\n",
    "            ws.append(np.dot(di, Ai))\n",
    "        return np.mean(ws,axis=0)\n",
    "    \n",
    "    def train(self, inputs, truths):\n",
    "        # First get the error and delta for output layer\n",
    "        A, Z, output = self.push_forward(inputs)\n",
    "#         curdelta = np.multiply((output - truths),self.sigmoid_delta(Z[len(Z)-1]))\n",
    "        curdelta = np.multiply(self.delta_func(output, truths),self.sigmoid_delta(Z[len(Z)-1]))\n",
    "        deltas = [curdelta]\n",
    "        for i in reversed(xrange(0, len(self.weights)-1)):\n",
    "            curdelta = np.multiply(np.dot(np.transpose(self.weights[i+1]), curdelta),\n",
    "                                   self.sigmoid_delta(Z[i]))\n",
    "            deltas.insert(0, curdelta)        \n",
    "        A.insert(0,inputs)\n",
    "        for i in reversed(xrange(0, len(self.weights))):\n",
    "            self.weights[i] -= (self.learningrate * np.dot(deltas[i], A[i].T))\n",
    "            tmp = np.mean(deltas[i],axis=1)\n",
    "            tmp = np.matrix(tmp)\n",
    "            tmp = tmp.T\n",
    "            try:\n",
    "                self.ths[i] -= (self.learningrate * tmp)\n",
    "            except ValueError:\n",
    "#                 print \"tmp - %s\" % tmp\n",
    "#                 print \"ths - %s\" % self.ths[i]\n",
    "                self.ths[i] -= (self.learningrate * tmp.T)\n",
    "            \n",
    "        return np.mean(abs(truths - output))"
   ]
  },
  {
   "cell_type": "markdown",
   "metadata": {},
   "source": [
    "Testing Input (AND)\n",
    "---------\n",
    "Sample truth table for AND:\n",
    "\n",
    "A | B | **Output**\n",
    "--- | --- | ---\n",
    "0 | 0 | 0\n",
    "0 | 1 | 0\n",
    "1 | 0 | 0\n",
    "1 | 1 | 1"
   ]
  },
  {
   "cell_type": "code",
   "execution_count": 9,
   "metadata": {
    "collapsed": false
   },
   "outputs": [],
   "source": [
    "input_XOR = np.transpose(np.array([[0,0],[0,1],[1,0],[1,1]]))\n",
    "gtruth_XOR = np.transpose(np.array([[0],[1],[1],[0]]))\n",
    "input_AND = np.transpose(np.array([[0,0],[0,1],[1,0],[1,1]]))\n",
    "gtruth_AND = np.transpose(np.array([[0],[0],[0],[1]]))"
   ]
  },
  {
   "cell_type": "code",
   "execution_count": 10,
   "metadata": {
    "collapsed": false
   },
   "outputs": [
    {
     "name": "stdout",
     "output_type": "stream",
     "text": [
      "Final Results: [[ 0.12342281  0.65636643  0.65635293  0.66577607]]\n",
      "Wall time: 271 ms\n"
     ]
    },
    {
     "data": {
      "image/png": "[encoded data removed]",
      "text/plain": [
       "<matplotlib.figure.Figure at 0x75ae828>"
      ]
     },
     "metadata": {},
     "output_type": "display_data"
    }
   ],
   "source": [
    "%%time\n",
    "np.random.seed(1)\n",
    "pp = perceptron(2, 1, 1, 1, 1.0)\n",
    "results = []\n",
    "for i in xrange(0, 1000): results.append(pp.train(input_XOR, gtruth_XOR))\n",
    "plot(results)\n",
    "print \"Final Results: %s\" % pp.feed_forward(input_XOR)"
   ]
  },
  {
   "cell_type": "markdown",
   "metadata": {},
   "source": [
    "We can clearly see the training fail here, when we're training for XOR with only one neuron in the hidden layer, and the training fails. Let's try with two neurons:"
   ]
  },
  {
   "cell_type": "code",
   "execution_count": 25,
   "metadata": {
    "collapsed": false,
    "scrolled": true
   },
   "outputs": [
    {
     "name": "stderr",
     "output_type": "stream",
     "text": [
      "100%|████████████████████████████████████████████████████████████████████████████| 1000/1000 [00:00<00:00, 3571.43it/s]\n"
     ]
    },
    {
     "name": "stdout",
     "output_type": "stream",
     "text": [
      "Final Results = [[ 0.00700684  0.9878664   0.98749202  0.02203125]]\n",
      "Wall time: 317 ms\n"
     ]
    },
    {
     "data": {
      "image/png": "[encoded data removed]",
      "text/plain": [
       "<matplotlib.figure.Figure at 0x68ee048>"
      ]
     },
     "metadata": {},
     "output_type": "display_data"
    }
   ],
   "source": [
    "%%time\n",
    "np.random.seed(1)\n",
    "pp2 = perceptron(2, 1, 3, 1, 10)\n",
    "plot([(pp2.train(input_XOR, gtruth_XOR)) for i in tqdm(xrange(0, 1000))])\n",
    "print \"Final Results = %s\" % pp2.feed_forward(input_XOR)"
   ]
  },
  {
   "cell_type": "markdown",
   "metadata": {},
   "source": [
    "The results look much better now."
   ]
  },
  {
   "cell_type": "markdown",
   "metadata": {},
   "source": [
    "Cross Entropy\n",
    "------------\n",
    "\n",
    "Now let us try modifying the cost function, see if we can't speed up computation a bit.\n",
    "The ordinary cost derivative being used is:\n",
    "$$\\frac{dE}{dA} = (a-y)$$\n",
    "Cross entropy uses the following function:\n",
    "$$\\frac{dE}{dA} = \\frac{a-y}{a(1-a)}$$"
   ]
  },
  {
   "cell_type": "code",
   "execution_count": 57,
   "metadata": {
    "collapsed": true
   },
   "outputs": [],
   "source": [
    "def cross_delta(output, truths):\n",
    "    return (output - truths)/(np.multiply(output,(1-output)))"
   ]
  },
  {
   "cell_type": "code",
   "execution_count": 12,
   "metadata": {
    "collapsed": false
   },
   "outputs": [
    {
     "name": "stdout",
     "output_type": "stream",
     "text": [
      "Cross Entropy Final Results = [[  2.53993659e-05   9.99107935e-01   9.99106532e-01   1.29625199e-03]]\n",
      "L2NORM        Final Results = [[ 0.00718332  0.97689461  0.97684651  0.02786687]]\n"
     ]
    },
    {
     "data": {
      "image/png": "[encoded data removed]",
      "text/plain": [
       "<matplotlib.figure.Figure at 0x753b3c8>"
      ]
     },
     "metadata": {},
     "output_type": "display_data"
    }
   ],
   "source": [
    "np.random.seed(2)\n",
    "pp2 = perceptron(2, 1, 3, 1, 1)\n",
    "np.random.seed(2)\n",
    "pp3 = perceptron(2, 1, 3, 1, 1)\n",
    "pp3.delta_func = cross_delta\n",
    "plot([(pp3.train(input_XOR, gtruth_XOR)) for i in xrange(0, 5000)], \"green\",label = \"Cross Entropy\")\n",
    "plot([(pp2.train(input_XOR, gtruth_XOR)) for i in xrange(0, 5000)], \"blue\", label = \"L2NORM\")\n",
    "legend()\n",
    "print \"Cross Entropy Final Results = %s\" % pp3.feed_forward(input_XOR)\n",
    "print \"L2NORM        Final Results = %s\" % pp2.feed_forward(input_XOR)"
   ]
  },
  {
   "cell_type": "markdown",
   "metadata": {},
   "source": [
    "We can clearly see the difference in training speed and training time."
   ]
  },
  {
   "cell_type": "markdown",
   "metadata": {},
   "source": [
    "Digit Classification\n",
    "----\n",
    "\n",
    "Now let's load some MNIST digits and attempt classification. We'll use the MNIST package to make loading from the compressed files easier."
   ]
  },
  {
   "cell_type": "code",
   "execution_count": 13,
   "metadata": {
    "collapsed": true
   },
   "outputs": [],
   "source": [
    "from mnist import MNIST\n",
    "mndata = MNIST('mnist')\n",
    "data = mndata.load_training()"
   ]
  },
  {
   "cell_type": "code",
   "execution_count": 14,
   "metadata": {
    "collapsed": false
   },
   "outputs": [],
   "source": [
    "training_images = data[0]\n",
    "training_labels = data[1]"
   ]
  },
  {
   "cell_type": "markdown",
   "metadata": {},
   "source": [
    "Now we can attempt to create a neural net that can process the data. First thing is something to convert label data into useful ground truths for the perceptron, as well as some input processing to normalize input data."
   ]
  },
  {
   "cell_type": "code",
   "execution_count": 187,
   "metadata": {
    "collapsed": false
   },
   "outputs": [],
   "source": [
    "def out_process(digit):\n",
    "    outv = np.zeros(10)\n",
    "    outv[digit] = 1\n",
    "    return outv\n",
    "def in_process(inval):\n",
    "    return inval/255.0"
   ]
  },
  {
   "cell_type": "code",
   "execution_count": 188,
   "metadata": {
    "collapsed": false
   },
   "outputs": [],
   "source": [
    "np.random.seed(1)\n",
    "mnist_pp = perceptron(len(training_images[0]), 10, 15, 2, 0.1)"
   ]
  },
  {
   "cell_type": "code",
   "execution_count": 189,
   "metadata": {
    "collapsed": false
   },
   "outputs": [],
   "source": [
    "## Reshape and fit training data\n",
    "selection_max = 100\n",
    "# selection_max = len(training_images)\n",
    "def load_images(inp, selection_max):\n",
    "    return in_process(np.matrix(inp[0:selection_max]).T)\n",
    "training_data = load_images(training_images, selection_max)"
   ]
  },
  {
   "cell_type": "code",
   "execution_count": 190,
   "metadata": {
    "collapsed": false
   },
   "outputs": [],
   "source": [
    "## Reshape and fit labels\n",
    "def load_labels(inp, selection_max):\n",
    "    return numpy.apply_along_axis(func1d=out_process, arr=np.matrix(inp[0:selection_max]), axis=0)\n",
    "training_data_l = load_labels(training_labels, selection_max)"
   ]
  },
  {
   "cell_type": "code",
   "execution_count": 191,
   "metadata": {
    "collapsed": false
   },
   "outputs": [
    {
     "name": "stdout",
     "output_type": "stream",
     "text": [
      "(10L, 100L)\n",
      "(784L, 100L)\n"
     ]
    }
   ],
   "source": [
    "## Check shapes\n",
    "print training_data_l.shape\n",
    "print training_data.shape"
   ]
  },
  {
   "cell_type": "code",
   "execution_count": 192,
   "metadata": {
    "collapsed": false
   },
   "outputs": [
    {
     "name": "stdout",
     "output_type": "stream",
     "text": [
      "Wall time: 11 ms\n"
     ]
    }
   ],
   "source": [
    "%%time\n",
    "## Testing feed forward\n",
    "y = mnist_pp.feed_forward(training_data)"
   ]
  },
  {
   "cell_type": "code",
   "execution_count": 193,
   "metadata": {
    "collapsed": false
   },
   "outputs": [
    {
     "name": "stdout",
     "output_type": "stream",
     "text": [
      "(10L, 100L)\n",
      "(10L, 100L)\n",
      "0.899605478438\n"
     ]
    }
   ],
   "source": [
    "error = y - training_data_l\n",
    "print y.shape\n",
    "print training_data_l.shape\n",
    "_, _, output = mnist_pp.push_forward(training_data)\n",
    "print np.mean(abs(training_data_l - output))"
   ]
  },
  {
   "cell_type": "code",
   "execution_count": 194,
   "metadata": {
    "collapsed": false
   },
   "outputs": [
    {
     "name": "stderr",
     "output_type": "stream",
     "text": [
      "100%|█████████████████████████████████████████████████████████████████████████████████████| 1000/1000 [00:22<00:00, 47.11it/s]\n"
     ]
    },
    {
     "name": "stdout",
     "output_type": "stream",
     "text": [
      "Wall time: 22.4 s\n"
     ]
    },
    {
     "data": {
      "image/png": "[encoded data removed]",
      "text/plain": [
       "<matplotlib.figure.Figure at 0x2d0fb2b0>"
      ]
     },
     "metadata": {},
     "output_type": "display_data"
    }
   ],
   "source": [
    "%%time\n",
    "## Fingers crossed, try training\n",
    "plot([(mnist_pp.train(training_data, training_data_l)) for i in tqdm(xrange(0, 1000))], \"green\",label = \"Cost\")\n",
    "legend()"
   ]
  },
  {
   "cell_type": "markdown",
   "metadata": {},
   "source": [
    "For the safety of time, let's start using cross entropy."
   ]
  },
  {
   "cell_type": "code",
   "execution_count": 179,
   "metadata": {
    "collapsed": false
   },
   "outputs": [
    {
     "name": "stdout",
     "output_type": "stream",
     "text": [
      "Wall time: 0 ns\n"
     ]
    }
   ],
   "source": [
    "%%time\n",
    "np.random.seed(1)\n",
    "mnist_pp2 = perceptron(len(training_images[0]), 10, 15, 2, 0.1)\n",
    "mnist_pp2.delta_func = cross_delta"
   ]
  },
  {
   "cell_type": "code",
   "execution_count": 167,
   "metadata": {
    "collapsed": false
   },
   "outputs": [
    {
     "name": "stderr",
     "output_type": "stream",
     "text": [
      "100%|███████████████████████████████████████████████████████████████████████████████████████| 100/100 [00:02<00:00, 37.31it/s]\n"
     ]
    },
    {
     "data": {
      "text/plain": [
       "<matplotlib.legend.Legend at 0x2b25ed68>"
      ]
     },
     "execution_count": 167,
     "metadata": {},
     "output_type": "execute_result"
    },
    {
     "data": {
      "image/png": "[encoded data removed]",
      "text/plain": [
       "<matplotlib.figure.Figure at 0x2b24f0b8>"
      ]
     },
     "metadata": {},
     "output_type": "display_data"
    }
   ],
   "source": [
    "%%time\n",
    "res = [float((mnist_pp2.train(training_data, training_data_l))) for i in tqdm(xrange(0, 100))]\n",
    "plot(res, \"green\",label = \"Cost\")\n",
    "legend()"
   ]
  },
  {
   "cell_type": "markdown",
   "metadata": {},
   "source": [
    "Now, we need a framework for testing."
   ]
  },
  {
   "cell_type": "code",
   "execution_count": null,
   "metadata": {
    "collapsed": true
   },
   "outputs": [],
   "source": [
    "testing = mndata.load_testing()"
   ]
  },
  {
   "cell_type": "code",
   "execution_count": 142,
   "metadata": {
    "collapsed": true
   },
   "outputs": [],
   "source": [
    "# Convert results to label outputs\n",
    "def find_classification(inp):\n",
    "    return np.argmax(inp)\n",
    "def classify(inp):\n",
    "    return np.apply_along_axis(find_classification, 0, inp)"
   ]
  },
  {
   "cell_type": "code",
   "execution_count": 168,
   "metadata": {
    "collapsed": false
   },
   "outputs": [],
   "source": [
    "selection_max = 50\n",
    "testing_data = load_images(testing[0], selection_max)"
   ]
  },
  {
   "cell_type": "code",
   "execution_count": 169,
   "metadata": {
    "collapsed": true
   },
   "outputs": [],
   "source": [
    "out = mnist_pp2.feed_forward(testing_data)"
   ]
  },
  {
   "cell_type": "code",
   "execution_count": 172,
   "metadata": {
    "collapsed": false
   },
   "outputs": [
    {
     "data": {
      "text/plain": [
       "array([4, 4, 4, 4, 4, 4, 4, 4, 4, 4, 4, 4, 4, 4, 4, 4, 4, 4, 4, 4, 4, 4, 4,\n",
       "       4, 4, 4, 4, 4, 4, 4, 4, 4, 4, 4, 4, 4, 4, 4, 4, 4, 4, 4, 4, 4, 4, 4,\n",
       "       4, 4, 4, 4], dtype=int64)"
      ]
     },
     "execution_count": 172,
     "metadata": {},
     "output_type": "execute_result"
    }
   ],
   "source": [
    "classify(out)"
   ]
  },
  {
   "cell_type": "markdown",
   "metadata": {},
   "source": [
    "Clearly, the sparse nature of the dataset is preventing any sort of useful training, even as the total cost is decreased."
   ]
  },
  {
   "cell_type": "code",
   "execution_count": null,
   "metadata": {
    "collapsed": true
   },
   "outputs": [],
   "source": []
  }
 ],
 "metadata": {
  "kernelspec": {
   "display_name": "Python 2",
   "language": "python",
   "name": "python2"
  },
  "language_info": {
   "codemirror_mode": {
    "name": "ipython",
    "version": 2
   },
   "file_extension": ".py",
   "mimetype": "text/x-python",
   "name": "python",
   "nbconvert_exporter": "python",
   "pygments_lexer": "ipython2",
   "version": "2.7.11"
  }
 },
 "nbformat": 4,
 "nbformat_minor": 0
}
