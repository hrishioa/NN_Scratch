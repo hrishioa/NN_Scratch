{
 "cells": [
  {
   "cell_type": "markdown",
   "metadata": {},
   "source": [
    "## Imports"
   ]
  },
  {
   "cell_type": "code",
   "execution_count": 1,
   "metadata": {
    "collapsed": true
   },
   "outputs": [],
   "source": [
    "import numpy as np"
   ]
  },
  {
   "cell_type": "markdown",
   "metadata": {},
   "source": [
    "Initialization\n",
    "-------------\n",
    "\n",
    "Set up Hyperparameters\n",
    "* InputSize\n",
    "* OutputSize\n",
    "* HiddenLayerWidth\n",
    "* HiddenLayerHeight"
   ]
  },
  {
   "cell_type": "code",
   "execution_count": 2,
   "metadata": {
    "collapsed": false
   },
   "outputs": [],
   "source": [
    "class perceptron(object):\n",
    "    def __init__(self, input_size, output_size, hl_neurons, hl_layers, learningrate):\n",
    "        self.learningrate = learningrate\n",
    "        self.input_size = input_size\n",
    "        self.output_size = output_size\n",
    "        self.hl_neurons = hl_neurons\n",
    "        self.hl_layers = hl_layers\n",
    "        \n",
    "        # Now setup the weights in this format (inputs x neurons)\n",
    "        self.weights = []\n",
    "        self.ths = []\n",
    "        self.weights.append(np.random.rand(input_size, hl_neurons))\n",
    "        self.ths.append(np.random.rand(1,hl_neurons))\n",
    "        for i in xrange(1, hl_layers):\n",
    "            self.weights.append(np.random.rand(hl_neurons, hl_neurons))\n",
    "            self.ths.append(np.random.rand(1, hl_neurons))\n",
    "        self.weights.append(np.random.rand(hl_neurons, output_size))\n",
    "        self.ths.append(np.random.rand(1, output_size))\n",
    "    \n",
    "    def sigmoid(self, z):\n",
    "        return 1/(1+np.exp(-z))\n",
    "    \n",
    "    def sigmoid_delta(self, z):\n",
    "        return (-np.exp(-z))/((1+np.exp(-z))**2)\n",
    "    \n",
    "    def feed_forward(self, inputs):\n",
    "        output = inputs\n",
    "        for i in xrange(0, len(self.weights)):\n",
    "            output = np.dot(output, self.weights[i])\n",
    "            output += self.ths[i]\n",
    "            output = self.sigmoid(output)\n",
    "        return output\n",
    "    \n",
    "    def train(self, inputs, truths):\n",
    "        # First get the error and delta for output layer\n",
    "        A = []\n",
    "        Z = []\n",
    "        output = inputs\n",
    "        for i in xrange(0, len(self.weights)):\n",
    "            output = np.dot(output, self.weights[i]) + self.ths[i]\n",
    "            Z.append(output)\n",
    "            output = self.sigmoid(output)\n",
    "            A.append(output)\n",
    "        curdelta = (truths - output) * self.sigmoid_delta(Z[len(Z)-1])\n",
    "        curWL = np.transpose(self.weights[len(self.weights)-1])\n",
    "         # Now go backwards\n",
    "        deltas = [curdelta]\n",
    "        \n",
    "        for i in reversed(xrange(0, len(self.weights)-1)):\n",
    "            curdelta = np.dot(curdelta, curWL) * self.sigmoid_delta(Z[i])\n",
    "            curWL = np.transpose(self.weights[i])\n",
    "            deltas.insert(0, curdelta)\n",
    "            \n",
    "        ## Perform gradient descent\n",
    "        for i in reversed(xrange(1, len(self.weights))):\n",
    "            A_av = np.array([np.mean(A[i-1][:,x]) for x in xrange(0, len(A[i-1][0]))])\n",
    "            print \"Delta %d: %s\" % (i, np.array2string(deltas[i]))\n",
    "            print \"A     %d: %s\" % (i-1, A[i-1])\n",
    "            print \"A_av  %d: %s\" % (i-1, A_av)\n",
    "            print \"W     %d: %s\" % (i, self.weights[i])\n",
    "            print \"A * delta: %s\" % (np.dot((np.matrix(A[i-1])), np.transpose(deltas[i])))\n",
    "            delta_av = np.array([np.mean(deltas[i][:,x]) for x in xrange(0,len(deltas[i][0]))])\n",
    "            self.weights[i] -= self.learningrate * (np.dot(deltas[i], np.matrix(A_av)))\n",
    "            self.ths[i] -= self.learningrate * delta_av\n",
    "        \n",
    "        return truths - self.feed_forward(inputs)"
   ]
  },
  {
   "cell_type": "code",
   "execution_count": 3,
   "metadata": {
    "collapsed": false
   },
   "outputs": [],
   "source": [
    "# Create an new perceptron for testing\n",
    "pp = perceptron(2, 1, 3, 1, 0.1)"
   ]
  },
  {
   "cell_type": "markdown",
   "metadata": {},
   "source": [
    "Testing Input (AND)\n",
    "---------\n",
    "Sample truth table for AND:\n",
    "\n",
    "A | B | **Output**\n",
    "--- | --- | ---\n",
    "0 | 0 | 0\n",
    "0 | 1 | 0\n",
    "1 | 0 | 0\n",
    "1 | 1 | 1"
   ]
  },
  {
   "cell_type": "code",
   "execution_count": 4,
   "metadata": {
    "collapsed": false
   },
   "outputs": [],
   "source": [
    "input_AND = np.array([[0,0],[0,1],[1,0],[1,1]])\n",
    "gtruth_AND = np.array([[0],[0],[0],[1]])"
   ]
  },
  {
   "cell_type": "code",
   "execution_count": 5,
   "metadata": {
    "collapsed": false
   },
   "outputs": [
    {
     "name": "stdout",
     "output_type": "stream",
     "text": [
      "Delta 1: [[ 0.07327707]\n",
      " [ 0.06277067]\n",
      " [ 0.05741011]\n",
      " [-0.00290618]]\n",
      "A     0: [[ 0.61910204  0.68310824  0.58328322]\n",
      " [ 0.63324645  0.71684842  0.75333066]\n",
      " [ 0.77609223  0.846152    0.61313904]\n",
      " [ 0.78641809  0.86593939  0.77568859]]\n",
      "A_av  0: [ 0.7037147   0.77801201  0.68136038]\n",
      "W     1: [[ 0.9699894 ]\n",
      " [ 0.8336305 ]\n",
      " [ 0.95318225]]\n"
     ]
    },
    {
     "ename": "ValueError",
     "evalue": "shapes (4,3) and (1,4) not aligned: 3 (dim 1) != 1 (dim 0)",
     "output_type": "error",
     "traceback": [
      "\u001b[1;31m---------------------------------------------------------------------------\u001b[0m",
      "\u001b[1;31mValueError\u001b[0m                                Traceback (most recent call last)",
      "\u001b[1;32m<ipython-input-5-512a276e659c>\u001b[0m in \u001b[0;36m<module>\u001b[1;34m()\u001b[0m\n\u001b[1;32m----> 1\u001b[1;33m \u001b[0mpp\u001b[0m\u001b[1;33m.\u001b[0m\u001b[0mtrain\u001b[0m\u001b[1;33m(\u001b[0m\u001b[0minput_AND\u001b[0m\u001b[1;33m,\u001b[0m \u001b[0mgtruth_AND\u001b[0m\u001b[1;33m)\u001b[0m\u001b[1;33m\u001b[0m\u001b[0m\n\u001b[0m\u001b[0;32m      2\u001b[0m \u001b[0mabs\u001b[0m\u001b[1;33m(\u001b[0m\u001b[0mgtruth_AND\u001b[0m \u001b[1;33m-\u001b[0m \u001b[0mpp\u001b[0m\u001b[1;33m.\u001b[0m\u001b[0mfeed_forward\u001b[0m\u001b[1;33m(\u001b[0m\u001b[0minput_AND\u001b[0m\u001b[1;33m)\u001b[0m\u001b[1;33m)\u001b[0m\u001b[1;33m\u001b[0m\u001b[0m\n",
      "\u001b[1;32m<ipython-input-2-9ca54530fd5c>\u001b[0m in \u001b[0;36mtrain\u001b[1;34m(self, inputs, truths)\u001b[0m\n\u001b[0;32m     59\u001b[0m             \u001b[1;32mprint\u001b[0m \u001b[1;34m\"A_av  %d: %s\"\u001b[0m \u001b[1;33m%\u001b[0m \u001b[1;33m(\u001b[0m\u001b[0mi\u001b[0m\u001b[1;33m-\u001b[0m\u001b[1;36m1\u001b[0m\u001b[1;33m,\u001b[0m \u001b[0mA_av\u001b[0m\u001b[1;33m)\u001b[0m\u001b[1;33m\u001b[0m\u001b[0m\n\u001b[0;32m     60\u001b[0m             \u001b[1;32mprint\u001b[0m \u001b[1;34m\"W     %d: %s\"\u001b[0m \u001b[1;33m%\u001b[0m \u001b[1;33m(\u001b[0m\u001b[0mi\u001b[0m\u001b[1;33m,\u001b[0m \u001b[0mself\u001b[0m\u001b[1;33m.\u001b[0m\u001b[0mweights\u001b[0m\u001b[1;33m[\u001b[0m\u001b[0mi\u001b[0m\u001b[1;33m]\u001b[0m\u001b[1;33m)\u001b[0m\u001b[1;33m\u001b[0m\u001b[0m\n\u001b[1;32m---> 61\u001b[1;33m             \u001b[1;32mprint\u001b[0m \u001b[1;34m\"A * delta: %s\"\u001b[0m \u001b[1;33m%\u001b[0m \u001b[1;33m(\u001b[0m\u001b[0mnp\u001b[0m\u001b[1;33m.\u001b[0m\u001b[0mdot\u001b[0m\u001b[1;33m(\u001b[0m\u001b[1;33m(\u001b[0m\u001b[0mnp\u001b[0m\u001b[1;33m.\u001b[0m\u001b[0mmatrix\u001b[0m\u001b[1;33m(\u001b[0m\u001b[0mA\u001b[0m\u001b[1;33m[\u001b[0m\u001b[0mi\u001b[0m\u001b[1;33m-\u001b[0m\u001b[1;36m1\u001b[0m\u001b[1;33m]\u001b[0m\u001b[1;33m)\u001b[0m\u001b[1;33m)\u001b[0m\u001b[1;33m,\u001b[0m \u001b[0mnp\u001b[0m\u001b[1;33m.\u001b[0m\u001b[0mtranspose\u001b[0m\u001b[1;33m(\u001b[0m\u001b[0mdeltas\u001b[0m\u001b[1;33m[\u001b[0m\u001b[0mi\u001b[0m\u001b[1;33m]\u001b[0m\u001b[1;33m)\u001b[0m\u001b[1;33m)\u001b[0m\u001b[1;33m)\u001b[0m\u001b[1;33m\u001b[0m\u001b[0m\n\u001b[0m\u001b[0;32m     62\u001b[0m             \u001b[0mdelta_av\u001b[0m \u001b[1;33m=\u001b[0m \u001b[0mnp\u001b[0m\u001b[1;33m.\u001b[0m\u001b[0marray\u001b[0m\u001b[1;33m(\u001b[0m\u001b[1;33m[\u001b[0m\u001b[0mnp\u001b[0m\u001b[1;33m.\u001b[0m\u001b[0mmean\u001b[0m\u001b[1;33m(\u001b[0m\u001b[0mdeltas\u001b[0m\u001b[1;33m[\u001b[0m\u001b[0mi\u001b[0m\u001b[1;33m]\u001b[0m\u001b[1;33m[\u001b[0m\u001b[1;33m:\u001b[0m\u001b[1;33m,\u001b[0m\u001b[0mx\u001b[0m\u001b[1;33m]\u001b[0m\u001b[1;33m)\u001b[0m \u001b[1;32mfor\u001b[0m \u001b[0mx\u001b[0m \u001b[1;32min\u001b[0m \u001b[0mxrange\u001b[0m\u001b[1;33m(\u001b[0m\u001b[1;36m0\u001b[0m\u001b[1;33m,\u001b[0m\u001b[0mlen\u001b[0m\u001b[1;33m(\u001b[0m\u001b[0mdeltas\u001b[0m\u001b[1;33m[\u001b[0m\u001b[0mi\u001b[0m\u001b[1;33m]\u001b[0m\u001b[1;33m[\u001b[0m\u001b[1;36m0\u001b[0m\u001b[1;33m]\u001b[0m\u001b[1;33m)\u001b[0m\u001b[1;33m)\u001b[0m\u001b[1;33m]\u001b[0m\u001b[1;33m)\u001b[0m\u001b[1;33m\u001b[0m\u001b[0m\n\u001b[0;32m     63\u001b[0m             \u001b[0mself\u001b[0m\u001b[1;33m.\u001b[0m\u001b[0mweights\u001b[0m\u001b[1;33m[\u001b[0m\u001b[0mi\u001b[0m\u001b[1;33m]\u001b[0m \u001b[1;33m-=\u001b[0m \u001b[0mself\u001b[0m\u001b[1;33m.\u001b[0m\u001b[0mlearningrate\u001b[0m \u001b[1;33m*\u001b[0m \u001b[1;33m(\u001b[0m\u001b[0mnp\u001b[0m\u001b[1;33m.\u001b[0m\u001b[0mdot\u001b[0m\u001b[1;33m(\u001b[0m\u001b[0mdeltas\u001b[0m\u001b[1;33m[\u001b[0m\u001b[0mi\u001b[0m\u001b[1;33m]\u001b[0m\u001b[1;33m,\u001b[0m \u001b[0mnp\u001b[0m\u001b[1;33m.\u001b[0m\u001b[0mmatrix\u001b[0m\u001b[1;33m(\u001b[0m\u001b[0mA_av\u001b[0m\u001b[1;33m)\u001b[0m\u001b[1;33m)\u001b[0m\u001b[1;33m)\u001b[0m\u001b[1;33m\u001b[0m\u001b[0m\n",
      "\u001b[1;31mValueError\u001b[0m: shapes (4,3) and (1,4) not aligned: 3 (dim 1) != 1 (dim 0)"
     ]
    }
   ],
   "source": [
    "pp.train(input_AND, gtruth_AND)\n",
    "abs(gtruth_AND - pp.feed_forward(input_AND))"
   ]
  },
  {
   "cell_type": "code",
   "execution_count": 259,
   "metadata": {
    "collapsed": false
   },
   "outputs": [
    {
     "data": {
      "text/plain": [
       "array([[ 0.75133662],\n",
       "       [ 0.75906811],\n",
       "       [ 0.75261174],\n",
       "       [ 0.76041134]])"
      ]
     },
     "execution_count": 259,
     "metadata": {},
     "output_type": "execute_result"
    }
   ],
   "source": [
    "pp.feed_forward(input_AND)"
   ]
  },
  {
   "cell_type": "code",
   "execution_count": 157,
   "metadata": {
    "collapsed": false
   },
   "outputs": [
    {
     "data": {
      "text/plain": [
       "array([[-0.00700885, -0.00828953, -0.01480633],\n",
       "       [-0.00618889, -0.00579307, -0.00895242],\n",
       "       [-0.0042668 , -0.00755741, -0.00962132],\n",
       "       [ 0.0004433 ,  0.000628  ,  0.00061614]])"
      ]
     },
     "execution_count": 157,
     "metadata": {},
     "output_type": "execute_result"
    }
   ],
   "source": [
    "deltas[0]"
   ]
  },
  {
   "cell_type": "code",
   "execution_count": 158,
   "metadata": {
    "collapsed": false
   },
   "outputs": [
    {
     "data": {
      "text/plain": [
       "array([[ 0.97877439,  0.75552273,  0.96811647]])"
      ]
     },
     "execution_count": 158,
     "metadata": {},
     "output_type": "execute_result"
    }
   ],
   "source": [
    "pp.ths[0]"
   ]
  },
  {
   "cell_type": "code",
   "execution_count": 162,
   "metadata": {
    "collapsed": false
   },
   "outputs": [
    {
     "data": {
      "text/plain": [
       "-0.0058997649885304338"
      ]
     },
     "execution_count": 162,
     "metadata": {},
     "output_type": "execute_result"
    }
   ],
   "source": [
    "np.mean(deltas[:][0])"
   ]
  },
  {
   "cell_type": "code",
   "execution_count": 173,
   "metadata": {
    "collapsed": false
   },
   "outputs": [
    {
     "data": {
      "text/plain": [
       "[-0.0042553115390108233, -0.0052530018209328306, -0.0081909816056476466]"
      ]
     },
     "execution_count": 173,
     "metadata": {},
     "output_type": "execute_result"
    }
   ],
   "source": [
    "[np.mean(deltas[0][:,x]) for x in xrange(0,len(deltas[0][0]))]"
   ]
  }
 ],
 "metadata": {
  "kernelspec": {
   "display_name": "Python 2",
   "language": "python",
   "name": "python2"
  },
  "language_info": {
   "codemirror_mode": {
    "name": "ipython",
    "version": 2
   },
   "file_extension": ".py",
   "mimetype": "text/x-python",
   "name": "python",
   "nbconvert_exporter": "python",
   "pygments_lexer": "ipython2",
   "version": "2.7.11"
  }
 },
 "nbformat": 4,
 "nbformat_minor": 0
}
